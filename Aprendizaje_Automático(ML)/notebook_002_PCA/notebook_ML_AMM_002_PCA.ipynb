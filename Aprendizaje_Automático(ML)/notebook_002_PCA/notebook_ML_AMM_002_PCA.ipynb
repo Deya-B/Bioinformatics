{
 "cells": [
  {
   "cell_type": "markdown",
   "metadata": {},
   "source": [
    "\n",
    "# Notebook: Principal Component Analysis\n",
    "\n",
    "In this notebook, we present the **Principal Component Analysis** algorithm and related applications such as data visualization or data compression.\n",
    "\n",
    "## Contents\n",
    "The structure of the notebook is as follows:\n",
    "* Introducing Principal Component Analysis\n",
    "* PCA as dimensionality reduction\n",
    "* PCA for visualization: Wisconsin Diagnostic Breast Cancer Database\n",
    "* Choosing the number of components\n",
    "* Using PCA to find the perfect human\n",
    "* PCA for image reconstruction\n",
    "\n",
    "\n",
    "## Sources\n",
    "<!--BOOK_INFORMATION-->\n",
    "*This notebook has been modified by Aythami Morales from:\n",
    "\n",
    "i) the [Python Data Science Handbook](http://shop.oreilly.com/product/0636920034919.do) by Jake VanderPlas.*\n",
    "\n",
    "ii) the BE/Bi 103 Data Analysis in the Biological Sciences [PCA tutorial](http://bebi103.caltech.edu.s3-website-us-east-1.amazonaws.com/2016/tutorials/aux4_pca.html) by Heidi Klumpe and Manuel Razo.\n",
    "\n",
    "iii) Michael Galarnyk [Python tutorials](https://github.com/mGalarnyk)"
   ]
  },
  {
   "cell_type": "code",
   "execution_count": 74,
   "metadata": {},
   "outputs": [],
   "source": [
    "%matplotlib inline\n",
    "import numpy as np\n",
    "import pandas as pd\n",
    "import matplotlib.pyplot as plt\n",
    "# seaborn is a package for statistical data visualization\n",
    "import seaborn as sns; sns.set()"
   ]
  },
  {
   "cell_type": "markdown",
   "metadata": {},
   "source": [
    "## 1. Introducing Principal Component Analysis\n",
    "\n",
    "Principal component analysis (PCA) is a fast and flexible unsupervised method for dimensionality reduction in data. PCA is a statistical procedure that uses an orthogonal transformation to convert a set of observations of possibly correlated variables into a set of values of linearly uncorrelated variables called principal components. The number of distinct principal components is equal to the smaller of the number of original variables or the number of observations minus one. This transformation is defined in such a way that the first principal component has the largest possible variance (that is, accounts for as much of the variability in the data as possible), and each succeeding component in turn has the highest variance possible under the constraint that it is orthogonal to the preceding components. The resulting vectors are an uncorrelated orthogonal basis set. PCA is sensitive to the relative scaling of the original variables.\n",
    "\n",
    "PCA is fundamentally a dimensionality reduction algorithm, but it can also be useful as a tool for visualization, for noise filtering, for feature extraction and engineering, and much more.\n",
    "\n",
    "Its behavior is easiest to visualize by looking at a synthetic two-dimensional dataset.\n",
    "Consider the following 200 points:"
   ]
  },
  {
   "cell_type": "code",
   "execution_count": null,
   "metadata": {},
   "outputs": [],
   "source": [
    "# data.npy contains a synthetically generated two-dimensional data with 200 points\n",
    "X=np.load('./data/data.npy')\n",
    "# plot the 2 variables x0, x1\n",
    "plt.scatter(X[:, 0], X[:, 1])\n",
    "plt.axis('equal');"
   ]
  },
  {
   "cell_type": "markdown",
   "metadata": {},
   "source": [
    "We can observe the different distribution of $\\mathbf{X}_{:,0}$ and $\\mathbf{X}_{:,1}$ in our data by its projections:"
   ]
  },
  {
   "cell_type": "code",
   "execution_count": null,
   "metadata": {},
   "outputs": [],
   "source": [
    "# plot the 2 variables x0, x1\n",
    "plt.scatter(X[:, 0], X[:, 1])\n",
    "plt.axis('equal');\n",
    "# plot the projections into horizontal and vertical axes (only visualization purpose)\n",
    "plt.scatter(X[:, 0], -1.5*np.ones(len(X[:, 0])), alpha=0.5)\n",
    "plt.scatter(-3*np.ones(len(X[:, 1])), X[:, 1], alpha=0.5)"
   ]
  },
  {
   "cell_type": "markdown",
   "metadata": {},
   "source": [
    "By eye, it is clear that there is a nearly linear relationship between the $x_{0}$ and $x_{1}$ variables. The unsupervised learning problem attempts to learn about the *relationship* between the $x_{0}$ and $x_{1}$ values.\n",
    "\n",
    "In principal component analysis, this relationship is quantified by finding a list of the *principal axes* in the data, and using those axes to describe the dataset. Using Scikit-Learn's ``PCA`` estimator, we can compute this as follows:"
   ]
  },
  {
   "cell_type": "code",
   "execution_count": null,
   "metadata": {},
   "outputs": [],
   "source": [
    "# import PCA module from sklearn\n",
    "from sklearn.decomposition import PCA\n",
    "# define the PCA algorithm parameters, in this example only the number of components\n",
    "pca = PCA(n_components=2) # hacemos q sea de 2 dimensiones\n",
    "# fit PCA algorithm to your data\n",
    "pca.fit(X)"
   ]
  },
  {
   "cell_type": "markdown",
   "metadata": {},
   "source": [
    "The fit learns some quantities from the data, most importantly the \"components\", explained variance\" and  \"explained variance ratio\":"
   ]
  },
  {
   "cell_type": "code",
   "execution_count": null,
   "metadata": {},
   "outputs": [],
   "source": [
    "print(pca.components_) # autovectores"
   ]
  },
  {
   "cell_type": "code",
   "execution_count": null,
   "metadata": {},
   "outputs": [],
   "source": [
    "print(pca.explained_variance_) # autovalores (lambda 1 y 2) varianza explicada \n",
    "# de cada componente"
   ]
  },
  {
   "cell_type": "code",
   "execution_count": null,
   "metadata": {},
   "outputs": [],
   "source": [
    "print(pca.explained_variance_ratio_) # varianza = suma 1"
   ]
  },
  {
   "cell_type": "markdown",
   "metadata": {},
   "source": [
    "To see what these numbers mean, let's visualize them as vectors over the input data, using the \"components\" to define the direction of the vector, and the \"explained variance\" to define the squared-length of the vector:"
   ]
  },
  {
   "cell_type": "code",
   "execution_count": null,
   "metadata": {},
   "outputs": [],
   "source": [
    "#add your modules to the path\n",
    "import sys\n",
    "sys.path.append('./my_modules')\n",
    "\n",
    "#my_module is an example of python module created to include your functions\n",
    "import my_module\n",
    "\n",
    "# plot data\n",
    "plt.scatter(X[:, 0], X[:, 1], alpha=0.2)\n",
    "\n",
    "# plot vectors to visualize the variance of the data\n",
    "for length, vector in zip(pca.explained_variance_, pca.components_):\n",
    "    v = vector * 3 * np.sqrt(length)\n",
    "    my_module.draw_vector(pca.mean_, pca.mean_ + v)\n",
    "plt.axis('equal');"
   ]
  },
  {
   "cell_type": "markdown",
   "metadata": {},
   "source": [
    "These vectors represent the *principal axes* of the data, and the length of the vector is an indication of how \"important\" that axis is in describing the distribution of the data—more precisely, it is a measure of the variance of the data when projected onto that axis.\n",
    "\n",
    "The projection of each data point onto the principal axes are the \"principal components\" of the data.\n"
   ]
  },
  {
   "cell_type": "markdown",
   "metadata": {},
   "source": [
    "This transformation from data axes to principal axes is an *affine transformation*, which basically means it is composed of a translation, rotation, and uniform scaling.\n",
    "\n",
    "While this algorithm to find principal components may seem like just a mathematical curiosity, it turns out to have very far-reaching applications in the world of machine learning and data exploration."
   ]
  },
  {
   "cell_type": "markdown",
   "metadata": {},
   "source": [
    "## 2. PCA as dimensionality reduction\n",
    "\n",
    "Using PCA for dimensionality reduction involves zeroing out one or more of the smallest principal components, resulting in a lower-dimensional projection of the data that preserves the maximal data variance.\n",
    "\n",
    "Here is an example of using PCA as a dimensionality reduction transform:"
   ]
  },
  {
   "cell_type": "code",
   "execution_count": null,
   "metadata": {},
   "outputs": [],
   "source": [
    "# define the PCA parameters, only 1 component in this example\n",
    "pca = PCA(n_components=1)\n",
    "# fit PCA algorithm to your data\n",
    "pca.fit(X)\n",
    "# project the data according to the PCA components (1 component in this example)\n",
    "X_pca = pca.transform(X)\n",
    "print(\"original shape:   \", X.shape)\n",
    "print(\"transformed shape:\", X_pca.shape)"
   ]
  },
  {
   "cell_type": "markdown",
   "metadata": {},
   "source": [
    "The transformed data has been reduced to a single dimension.\n",
    "To understand the effect of this dimensionality reduction, we can perform the inverse transform of this reduced data and plot it along with the original data:"
   ]
  },
  {
   "cell_type": "code",
   "execution_count": null,
   "metadata": {},
   "outputs": [],
   "source": [
    "# X_pca es Z\n",
    "# reconstruction of the data from the projection\n",
    "X_new = pca.inverse_transform(X_pca)\n",
    "# plot the original data\n",
    "plt.scatter(X[:, 0], X[:, 1], alpha=0.2)\n",
    "# plot the reconstructed data\n",
    "plt.scatter(X_new[:, 0], X_new[:, 1], alpha=0.8)\n",
    "plt.axis('equal');\n",
    "\n",
    "# Los puntos rojos son la X projection y los azules la x original (los datos inicialmente)\n",
    "# Estos se parecen en un 97%"
   ]
  },
  {
   "cell_type": "markdown",
   "metadata": {},
   "source": [
    "The light points are the original data, while the dark points are the projected version.\n",
    "This makes clear what a PCA dimensionality reduction means: the information along the least important principal axis or axes is removed, leaving only the component(s) of the data with the highest variance.\n",
    "The fraction of variance that is cut out (proportional to the spread of points about the line formed in this figure) is roughly a measure of how much \"information\" is discarded in this reduction of dimensionality.\n",
    "\n",
    "This reduced-dimension dataset is in some senses \"good enough\" to encode the most important relationships between the points: despite reducing the dimension of the data by 50%, the overall relationship between the data points are mostly preserved."
   ]
  },
  {
   "cell_type": "markdown",
   "metadata": {},
   "source": [
    "## 3. PCA for visualization: Wisconsin Diagnostic Breast Cancer Database\n",
    "\n",
    "The usefulness of the dimensionality reduction may not be entirely apparent in only two dimensions, but becomes much more clear when looking at high-dimensional data.\n",
    "\n",
    "To see this, let's take a quick look at the application of PCA to the 'Wisconsin Diagnostic Breast Cancer' from the UCI repository (<https://archive.ics.uci.edu/ml/datasets/Breast+Cancer+Wisconsin+(Diagnostic)>). The task of interest is to predict whether or not a cell corresponds to a malignant tumor. In this dataset all attributes (32 attributes) take real values. These include area, smoothness, perimeter, etc.\n",
    "\n",
    "We start by loading the data:"
   ]
  },
  {
   "cell_type": "code",
   "execution_count": null,
   "metadata": {},
   "outputs": [],
   "source": [
    "# read the data, 30 features for each record\n",
    "data = pd.read_csv('./data/wdbc.csv')\n",
    "X = data.values[ :, 2:].astype(float)\n",
    "# as a supervised problem, we have an associated label (benign, malign) to each sample on X\n",
    "y = (data.values[ :, 1 ] == 'B').astype(int)\n",
    "target_names = np.array([('benign'), ('malign')], dtype=np.dtype('U10'))\n",
    "                 \n",
    "# make a DataFrame with a species column for the first 5 features\n",
    "X5 = X[ :, 0:5].astype(float)\n",
    "df_cancer = pd.DataFrame(X5)\n",
    "df_cancer['target'] = target_names[y]\n",
    "\n",
    "# take a look at df_cancer\n",
    "df_cancer.head(5)\n",
    "\n",
    "# filas son las muestras y las col son las caracteristicas/atributos"
   ]
  },
  {
   "cell_type": "code",
   "execution_count": null,
   "metadata": {},
   "outputs": [],
   "source": [
    "# Plot pairwise comparison to explore the data\n",
    "_ = sns.pairplot(df_cancer, hue='target') # plotear por pares, hue aplica colores disintos a las caracteristicas\n",
    "\n",
    "plt.show()\n",
    "\n",
    "# Cuando una car es lineal vemos que la información es redundante.\n",
    "# La diag principal muestra la distrib estadistica de la columna"
   ]
  },
  {
   "cell_type": "markdown",
   "metadata": {},
   "source": [
    "Recall that the data consists of 568x32 matrix, meaning that they are 32-dimensional feature vectors from 568 samples. We ignore the first attribute in this dataset, which corresponds to the ID of each sample. Features are computed from a digitized image of a fine needle aspirate (FNA) of a breast mass. They describe characteristics of the cell nuclei present in the image.\n",
    "\n",
    "To gain some intuition into the relationships between features, we can use PCA to project them to a more manageable number of dimensions, say two:"
   ]
  },
  {
   "cell_type": "code",
   "execution_count": null,
   "metadata": {},
   "outputs": [],
   "source": [
    "# define the PCA parameters, 4 components in this example\n",
    "pca = PCA(n_components=4) \n",
    "# project from 30 to 4 dimensions according to the PCA components\n",
    "X_r = pca.fit(X).transform(X) # lo mismo que antes, pero en una linea...\n",
    "print(X.shape)\n",
    "print(X_r.shape)\n",
    "\n",
    "\n",
    "print('explained variance ratio (first 4 components): %s'\n",
    "      % str(pca.explained_variance_ratio_))\n",
    "\n",
    "# Los resultados de esto indican q con 2 dimensiones tenemos casi toda la varianza... ie la base de datos es muy redundante\n"
   ]
  },
  {
   "cell_type": "markdown",
   "metadata": {},
   "source": [
    "We can now plot the first two principal components of each point to learn about the data:"
   ]
  },
  {
   "cell_type": "code",
   "execution_count": null,
   "metadata": {},
   "outputs": [],
   "source": [
    "plt.figure()\n",
    "comp1=0; #first component to visualize, you can modify it\n",
    "comp2=1; #second component to visualize, you can modify it\n",
    "\n",
    "# plot the two components selected above for both malign and benign tumors\n",
    "plt.scatter(X_r[y == 0, comp1], X_r[y == 0, comp2], color='g', alpha=.7, lw=1,\n",
    "                label='malign')\n",
    "\n",
    "plt.scatter(X_r[y == 1, comp1], X_r[y == 1, comp2], color='r', alpha=.1, lw=1,\n",
    "                label='benign')\n",
    "\n",
    "plt.legend(loc='best', shadow=False, scatterpoints=1)\n",
    "plt.title('PCA WDBC dataset')\n",
    "\n",
    "plt.show()"
   ]
  },
  {
   "cell_type": "markdown",
   "metadata": {},
   "source": [
    "Recall what these components mean: the full data is a 30-dimensional point cloud, and these points are the projection of each data point along the directions with the largest variance.\n",
    "\n",
    "Essentially, we have found the optimal stretch and rotation in 30-dimensional space that allows us to see the layout of the data in two dimensions."
   ]
  },
  {
   "cell_type": "markdown",
   "metadata": {},
   "source": [
    "## 4. Choosing the number of components\n",
    "\n",
    "A vital part of using PCA in practice is the ability to estimate how many components are needed to describe the data.\n",
    "This can be determined by looking at the cumulative *explained variance ratio* as a function of the number of components:"
   ]
  },
  {
   "cell_type": "code",
   "execution_count": null,
   "metadata": {},
   "outputs": [],
   "source": [
    "# fit PCA algorithm to your data\n",
    "pca = PCA().fit(X)\n",
    "# plot the variance ratio according to the number of components\n",
    "plt.plot(np.cumsum(pca.explained_variance_ratio_))\n",
    "plt.xlabel('number of components')\n",
    "plt.ylabel('cumulative explained variance');\n"
   ]
  },
  {
   "cell_type": "markdown",
   "metadata": {},
   "source": [
    "This curve quantifies how much of the total, 30-dimensional variance is contained within the first $N$ components.\n",
    "For example, we see that with the WDBC dataset the first 2 components contain approximately 99% of the variance.\n",
    "\n",
    "Here we see that our two-dimensional projection loses a reduced amount of information (as measured by the explained variance) and that we'd need only two features (in the transformed domain) to retain 99% of the variance. Looking at this plot for a high-dimensional dataset can help you understand the level of redundancy present in multiple observations."
   ]
  },
  {
   "cell_type": "markdown",
   "metadata": {},
   "source": [
    "## 5. Using PCA to find the perfect human\n",
    "\n",
    "Genomes are hard to interpret. And so are PCA plots. Lior Pachter makes both these points in an interesting [blog post](https://liorpachter.wordpress.com/2014/12/02/the-perfect-human-is-puerto-rican/), where he calculates who the perfect human being would be according to their genomic SNP profile.\n",
    "\n",
    "[SNPedia](http://www.snpedia.com/) is a database that contains a compilation of SNPs classified as *good* or *bad* according to some [GWAS](https://en.wikipedia.org/wiki/Genome-wide_association_study) criteria.\n",
    "Lior did the following:\n",
    "\n",
    "1. He created a \"perfect human\" *in silico* by setting the alleles at all SNPs so that they are \"good\".\n",
    "2. He then added the \"perfect human\" to a panel of genotyped individuals from across a variety of populations and performed **PCA** to reveal the location and population of origin of the individual that was closest to this hypothetical perfect human.\n",
    "\n",
    "#### What is SNP?\n",
    "\n",
    "Single nucleotide polymorphisms, frequently called SNPs (pronounced “snips”), are the most common type of genetic variation among people. Each SNP represents a difference in a single DNA building block, called a nucleotide.\n",
    "\n",
    "We will use his data and repeat the analysis to find out who the perfect human being is and where is he/she from.  You can download the SNP table, as well as information about the subjects [here](../data/pachter.zip).\n",
    "\n",
    "We will load it into a `DataFrame` where each column heading refers to a SNP and each row is a given subject.  The index of the row is a string representing the subject (including `'perfect'`), and the column headings are the SNP IDs."
   ]
  },
  {
   "cell_type": "code",
   "execution_count": null,
   "metadata": {},
   "outputs": [],
   "source": [
    "# import the packages\n",
    "import numpy as np\n",
    "import pandas as pd\n",
    "from sklearn.decomposition import PCA\n",
    "import sklearn\n",
    "\n",
    "# import matplotlib.pyplot as plt\n",
    "import mpl_toolkits.mplot3d\n",
    "import seaborn as sns\n",
    "\n",
    "# read the SNP table\n",
    "df_snp = pd.read_csv('./data/geno_table.txt', delimiter='\\t',\n",
    "                     index_col='snp_id').transpose()\n",
    "df_snp.head()\n",
    "\n",
    "# Tenemos q ver q es M (el num de personas) Y el algoritmo hará la cantidad max de M no del num de caracteristicas.\n",
    "# Con M llega al 100%"
   ]
  },
  {
   "cell_type": "markdown",
   "metadata": {},
   "source": [
    "Because we will do PCA with these data, they should be floating point numbers instead of integers.\n",
    "\n",
    "We also have data about each individual, such as where they are from. The integrated_call_samples_v3.20130502.ALL.panel file is also included in the ZIP file containing the data."
   ]
  },
  {
   "cell_type": "code",
   "execution_count": null,
   "metadata": {},
   "outputs": [],
   "source": [
    "# convert the dato to type float\n",
    "df_snp = df_snp.astype(float)\n",
    "\n",
    "# Read the description of each individual\n",
    "fname = './data/integrated_call_samples_v3.20130502.ALL.panel'\n",
    "df_info = pd.read_csv(fname, delimiter='\\t', \n",
    "                      index_col=0).dropna(axis=1, how='all')\n",
    "df_info.head()"
   ]
  },
  {
   "cell_type": "markdown",
   "metadata": {},
   "source": [
    "For convenience, we'll add this information to the SNP DataFrame."
   ]
  },
  {
   "cell_type": "code",
   "execution_count": null,
   "metadata": {},
   "outputs": [],
   "source": [
    "# add to the SNP dataframe the information about gender and super_pop\n",
    "aux_cols = ['pop', 'super_pop', 'gender']\n",
    "df_snp[aux_cols] = df_info\n",
    "\n",
    "# change the super_pop column for the perfect human being\n",
    "df_snp.loc['perfect', ['pop', 'super_pop']] = ['Perfect Human']*2\n",
    "\n",
    "# take a look at auxiliary columns\n",
    "df_snp[aux_cols].head()"
   ]
  },
  {
   "cell_type": "markdown",
   "metadata": {},
   "source": [
    "**A note about units:** the subspaces that you obtain from performing PCA are not scale invariant. This means that, for example, if your dataset contains things measured in nanometers and things measured in meters, or even worse things measuring completely unrelated things, the units in which your measurement is stored would affect the PCA analysis.\n",
    "The simplest way to avoid this issue is to form a \"common set of units\" by standardizing your values such that they all have a common mean and variance (usually set to be zero and one respectively). Though still a somewhat subjective choice, this ensures that variance in each dimension happen on roughly the same scale.\n",
    "Fortunately, as in almost every case, scikit-learn can do the job for us. We will simply use the StandardScaler class from the preprocessing module of scikit-learn to fix this."
   ]
  },
  {
   "cell_type": "code",
   "execution_count": null,
   "metadata": {},
   "outputs": [],
   "source": [
    "# standardize the data before performing PCA\n",
    "# we use .drop to remove the gender, pop and super_pop columns to avoid errors.\n",
    "df_snp_std = sklearn.preprocessing.StandardScaler().fit_transform(\n",
    "                            df_snp.drop(aux_cols, axis=1))\n",
    "\n",
    "# define the number of components\n",
    "n_components=5  \n",
    "snp_pca = PCA(n_components=n_components)\n",
    "\n",
    "# project the data into this new PCA space\n",
    "snp_pca.fit(df_snp_std)\n",
    "df_snp_pca = snp_pca.transform(df_snp_std)\n",
    "df_snp_pca = df_snp_pca*(-1)\n",
    "\n",
    "# convert back to a nice tidy dataframe\n",
    "df_snp_pca = pd.DataFrame(df_snp_pca, \n",
    "                columns=['PC' + str(x) for x in range(1, n_components+1)], \n",
    "                index=df_snp.index)\n",
    "\n",
    "# add again the gender, pop, and super_pop columns\n",
    "df_snp_pca[aux_cols] = df_snp[aux_cols]\n",
    "df_snp_pca.head()"
   ]
  },
  {
   "cell_type": "markdown",
   "metadata": {},
   "source": [
    "Great! Now, we know that plotting our multi-dimensional data in 2-D will give us an idea of which points are similar and dissimilar. So, if we believe genetic fitness is entirely determined by the absence and presence of universally good and bad SNPs, we may be interested in which humans are closest to the \"perfect\" human created by Lior Pachter. (Shortly after, we may offer our services to Hydra.) We will find this out by plotting all the SNP profiles in 2-D space."
   ]
  },
  {
   "cell_type": "code",
   "execution_count": null,
   "metadata": {},
   "outputs": [],
   "source": [
    "# plot all populations except the perfect human\n",
    "cols = ~df_snp_pca['super_pop'].isin(['Perfect Human'])\n",
    "df_gb = df_snp_pca[cols].groupby(['super_pop'])\n",
    "for key, group in df_gb:\n",
    "    plt.plot(group.PC1, group.PC2, 'o', alpha=0.5, label=key)\n",
    "\n",
    "# add the perfect human being to the plot\n",
    "plt.plot(df_snp_pca.PC1['perfect'], df_snp_pca.PC2['perfect'], '*', \n",
    "         markersize=15, color='black', label='Perfect')\n",
    "\n",
    "# tidy the plot\n",
    "plt.margins(0.05)\n",
    "plt.legend(loc=0)\n",
    "plt.xlabel('PC 1')\n",
    "plt.ylabel('PC 2');"
   ]
  },
  {
   "cell_type": "markdown",
   "metadata": {},
   "source": [
    "So the closest point to the perfect human being is patient HG00737 a **Puerto Rican woman!**\n",
    "\n",
    "How confident are we that this plot indicates a Puerto Rican woman is the closest to being perfect? What if we considered additional axes?"
   ]
  },
  {
   "cell_type": "code",
   "execution_count": null,
   "metadata": {},
   "outputs": [],
   "source": [
    "# Plot all populations except the perfect human\n",
    "cols = ~df_snp_pca['super_pop'].isin(['Perfect Human'])\n",
    "df_gb = df_snp_pca[cols].groupby(['super_pop'])\n",
    "for key, group in df_gb:\n",
    "    plt.plot(group.PC1, group.PC3, 'o', alpha=0.5, label=key)\n",
    "\n",
    "# Add the perfect human being to the plot\n",
    "plt.plot(df_snp_pca.PC1['perfect'], df_snp_pca.PC3['perfect'], '*', \n",
    "         markersize=15, color='black', label='Perfect')\n",
    "\n",
    "# Tidy the plot.\n",
    "plt.margins(0.05)\n",
    "plt.legend(loc=0)\n",
    "plt.xlabel('PC 1')\n",
    "plt.ylabel('PC 3');"
   ]
  },
  {
   "cell_type": "markdown",
   "metadata": {},
   "source": [
    "The perfect human is actually... not human. What happened here?\n",
    "We didn't check how much variance the first two axes explained; for the most part, we picked two dimensions because we publish papers in a two-dimensional format. It seems that there is a significant amount of variance explained by the third axis. In fact, it separates the \"perfect\" human from all other humans."
   ]
  },
  {
   "cell_type": "code",
   "execution_count": null,
   "metadata": {},
   "outputs": [],
   "source": [
    "# plot the variance ratio according to the number of components\n",
    "print('Variance percent explained\\n', snp_pca.explained_variance_ratio_)\n",
    "\n",
    "plt.plot(np.cumsum(snp_pca.explained_variance_ratio_))\n",
    "plt.xlabel('number of components')\n",
    "plt.ylabel('cumulative explained variance');\n",
    "\n",
    "# Ploteando vemos que hay muchas diferencias geneticas, y en base a solo el 10% de la poblacion \n",
    "# estamos sacando las conclusiones anteriores..."
   ]
  },
  {
   "cell_type": "markdown",
   "metadata": {},
   "source": [
    "It seems our plot explains less than 10% of the variation. A 2-D plot is vastly oversimplified. Looking at the 3-D plot, we see how we fooled ourselves."
   ]
  },
  {
   "cell_type": "code",
   "execution_count": null,
   "metadata": {},
   "outputs": [],
   "source": [
    "# plot in 3D with the first 3 PCA components\n",
    "fig = plt.figure(1, figsize=(8, 6))\n",
    "ax = mpl_toolkits.mplot3d.Axes3D(fig)\n",
    "for key, group in df_snp_pca.groupby(['super_pop']):\n",
    "    if key == 'Perfect Human':\n",
    "        ax.plot(group.PC1, group.PC2, group.PC3, 'k*', markersize=15,\n",
    "                label=key)\n",
    "    else:\n",
    "        ax.plot(group.PC1, group.PC2, group.PC3, 'o', alpha=0.7, label=key)\n",
    "\n",
    "ax.set_title(\"First three PC directions\")\n",
    "ax.set_xlabel(\"PC 1\")\n",
    "ax.set_ylabel(\"PC 2\")\n",
    "ax.set_zlabel(\"PC 3\")\n",
    "ax.legend(loc='upper left', fontsize=15);\n",
    "\n",
    "# Con 3 componentes vemos q se aleja la estrella"
   ]
  },
  {
   "cell_type": "markdown",
   "metadata": {},
   "source": [
    "This is an important reminder that PCA removes some variance to help us focus on the largest (and presumably most important) variance. Here however, there was important information even in the \"lower\" order variation. By plotting in 2-D, we implicitly assumed that most of the structure of SNP variation is itself 2-D. Perhaps, for something very complex like genomes, we should expect many higher order interactions to be still be important to understanding the system.\n",
    "\n",
    "A note on Pachter's analysis: This blog post ended up being fairly controversial because it is so easy to (mis)interpret the 2-D PCA plot. Lior's original intent was to show that James Watson's racist ideas of having a perfect human being were completely wrong. Instead, however, most people took the sarcastic title seriously. Eventually, scientists from Puerto Rico, who collected the samples, explained the actual results for the people that only read Lior's title."
   ]
  },
  {
   "cell_type": "markdown",
   "metadata": {},
   "source": [
    "<font color='red'>TASK: CREATE AN AUTOMATIC PROGRAM TO DEFINE THE NUMBER OF COMPONENTS NECCESSARY TO RETAIN 99% OF VARIANCE ON SNPedia DATABASE</font> "
   ]
  },
  {
   "cell_type": "code",
   "execution_count": null,
   "metadata": {},
   "outputs": [],
   "source": [
    "df_snp_std = sklearn.preprocessing.StandardScaler().fit_transform(\n",
    "                            df_snp.drop(aux_cols, axis=1))\n",
    "# By running pca\n",
    "n_components = 10\n",
    "snp_pca = PCA(n_components=n_components)\n",
    "snp_pca.fit(df_snp_std)\n",
    "calculation = sum(snp_pca.explained_variance_ratio_)\n",
    "# and checking the number of features and samples (.n_features_in_, .n_samples_)\n",
    "# we can know that there is a total of:\n",
    "print(\"Numero de caracteristicas:\", snp_pca.n_features_in_)\n",
    "print(\"Numero de muestras:\", snp_pca.n_samples_)"
   ]
  },
  {
   "cell_type": "code",
   "execution_count": null,
   "metadata": {},
   "outputs": [],
   "source": [
    "# Con el total de muestras 1093 que da el 100% de varianza podemos ir restando hasta llegar a 99%\n",
    "df_snp_std = sklearn.preprocessing.StandardScaler().fit_transform(\n",
    "                            df_snp.drop(aux_cols, axis=1))\n",
    "\n",
    "# USAMOS EL TOTAL DEMUESTRAS COMO MAXIMO\n",
    "n_components = 1093\n",
    "\n",
    "snp_pca = PCA(n_components=n_components)\n",
    "snp_pca.fit(df_snp_std)\n",
    "\n",
    "total = 0 # Contage de las varianzas\n",
    "round = 0 # KEEP TRAK OF THE NUMBER OF ROUNDS/ITERATIONS DONE\n",
    "\n",
    "# como el .explained_variance_ratio ya viene ordenado numericamente podemos \n",
    "# usarlo para iterar sobre el directamente\n",
    "for num in snp_pca.explained_variance_ratio_:\n",
    "    if total >= 0.99:\n",
    "        break # si llegamos al 0.99 paramos\n",
    "    else:\n",
    "        total += num\n",
    "        round += 1\n",
    "percentage = format(total*100, \".2f\")\n",
    "print (f\"La varianza de {percentage}%, se obtiene con un total de {round} muestras\")\n",
    "\n",
    "# usar esto para explorar la varianza e ir viendo cuando llega a 99%\n",
    "\n"
   ]
  },
  {
   "cell_type": "code",
   "execution_count": null,
   "metadata": {
    "collapsed": true
   },
   "outputs": [],
   "source": [
    "# ESTO NO FUNCIONA, CONSUME DEMASIADA MEMORIA, TARDA MUCHO\n",
    "\n",
    "# Buscar num de componentes, y parar cuando tengamos en min num de componentes \n",
    "# necesarios para obtener la varianza que se pide\n",
    "\n",
    "# we use .drop to remove the gender, pop and super_pop columns to avoid errors.\n",
    "df_snp_std = sklearn.preprocessing.StandardScaler().fit_transform(\n",
    "                            df_snp.drop(aux_cols, axis=1))\n",
    "\n",
    "# define the number of components\n",
    "n_components = 5\n",
    "\n",
    "while True:\n",
    "    n_components += 1\n",
    "    snp_pca = PCA(n_components=n_components)\n",
    "    snp_pca.fit(df_snp_std)\n",
    "    calculation = sum(snp_pca.explained_variance_ratio_)\n",
    "    roundedcalc = round(calculation, 2)\n",
    "    if roundedcalc >= 0.99:\n",
    "        break\n",
    "\n",
    "print(\"The result is\", roundedcalc)\n",
    "print(\"Number of components needed:\", n_components)\n",
    "# usar esto para explorar la varianza e ir viendo cuando llega a 99%"
   ]
  },
  {
   "cell_type": "markdown",
   "metadata": {},
   "source": [
    "<br>\n",
    "<font color='red'>ADD YOUR ANALYSIS</font> \n",
    "<br>\n",
    "<br>\n",
    "<font color='orange'>Salen 1041 caracteristicas (esto es el 25% del total) esto es un factor de compresion de 1/4. Lo cual es un numero alto, pero a la vez es una buena reducción. Habría que mirar si es mucho o poco comparandolo con lo que queremos obtener de los datos.</font> "
   ]
  },
  {
   "cell_type": "markdown",
   "metadata": {},
   "source": [
    "## 5. Using PCA for Image Reconstruction\n",
    "\n",
    "The MNIST database of handwritten digits, available from this page, has a training set of 60,000 examples, and a test set of 10,000 examples. It is a subset of a larger set available from NIST. The digits have been size-normalized and centered in a fixed-size image.It is a good database for people who want to try learning techniques and pattern recognition methods on real-world data while spending minimal efforts on preprocessing and formatting. \n",
    "\n",
    "Parameters | Number\n",
    "--- | ---\n",
    "Classes | 10\n",
    "Samples per class | ~7000 samples per class\n",
    "Samples total | 70000\n",
    "Dimensionality | 784\n",
    "Features | integers values from 0 to 255\n",
    "\n",
    "The MNIST database of handwritten digits is available on the following website: [MNIST Dataset](http://yann.lecun.com/exdb/mnist/)"
   ]
  },
  {
   "cell_type": "code",
   "execution_count": 205,
   "metadata": {
    "collapsed": true
   },
   "outputs": [],
   "source": [
    "%matplotlib inline\n",
    "#from sklearn.datasets import fetch_mldata\n",
    "from sklearn.decomposition import PCA\n",
    "import numpy as np\n",
    "import matplotlib.pyplot as plt\n",
    "from sklearn.preprocessing import StandardScaler\n",
    "\n",
    "import sys\n",
    "sys.path.append('./my_modules')\n",
    "import my_module"
   ]
  },
  {
   "cell_type": "markdown",
   "metadata": {},
   "source": [
    "Load the MNIST data"
   ]
  },
  {
   "cell_type": "code",
   "execution_count": 206,
   "metadata": {
    "collapsed": true
   },
   "outputs": [],
   "source": [
    "# You can add the parameter data_home to wherever to where you want to download your data\n",
    "mnist = list(my_module.read_MNIST())"
   ]
  },
  {
   "cell_type": "code",
   "execution_count": 207,
   "metadata": {
    "collapsed": true
   },
   "outputs": [],
   "source": [
    "# These are the images and pixels of the first data sample\n",
    "label,pixels=mnist[0]"
   ]
  },
  {
   "cell_type": "code",
   "execution_count": 208,
   "metadata": {},
   "outputs": [
    {
     "name": "stdout",
     "output_type": "stream",
     "text": [
      "7\n"
     ]
    }
   ],
   "source": [
    "# These are the images and pixels of the first data sample\n",
    "print(label)"
   ]
  },
  {
   "cell_type": "code",
   "execution_count": 209,
   "metadata": {},
   "outputs": [
    {
     "name": "stdout",
     "output_type": "stream",
     "text": [
      "(28, 28)\n"
     ]
    }
   ],
   "source": [
    "print(pixels.shape)"
   ]
  },
  {
   "cell_type": "code",
   "execution_count": 210,
   "metadata": {},
   "outputs": [
    {
     "data": {
      "image/png": "[encoded data removed]",
      "text/plain": [
       "<Figure size 640x480 with 1 Axes>"
      ]
     },
     "metadata": {},
     "output_type": "display_data"
    }
   ],
   "source": [
    "#lets see the image\n",
    "plt.imshow(pixels,\n",
    "              cmap = plt.cm.gray, interpolation='nearest',\n",
    "              clim=(0, 255));"
   ]
  },
  {
   "cell_type": "code",
   "execution_count": 211,
   "metadata": {
    "collapsed": true
   },
   "outputs": [],
   "source": [
    "#Lets conver the data into numpy matrices\n",
    "images_data=[]\n",
    "labels_data=[]\n",
    "for data in mnist:\n",
    "    label,pixels=data\n",
    "    images_data.append(pixels.ravel()) #use ravel() to convert a 2D matrix into a vector\n",
    "    labels_data.append(label)\n",
    "\n",
    "X=np.asarray(images_data)\n",
    "y=np.asarray(labels_data)"
   ]
  },
  {
   "cell_type": "code",
   "execution_count": 212,
   "metadata": {},
   "outputs": [
    {
     "name": "stdout",
     "output_type": "stream",
     "text": [
      "149\n"
     ]
    }
   ],
   "source": [
    "from sklearn.decomposition import PCA\n",
    "# define the PCA algorithm parameters, in this example we will define the variance retained\n",
    "pca = PCA(.95)\n",
    "lower_dimensional_data = pca.fit_transform(X)\n",
    "print(pca.n_components_)"
   ]
  },
  {
   "cell_type": "markdown",
   "metadata": {},
   "source": [
    "The idea with going from 784 components to 154 is to reduce the running time of a supervised learning algorithm. One of the cool things about PCA is that we can go from a compressed representation (154 components) back to an approximation of the original high dimensional data (784 components)."
   ]
  },
  {
   "cell_type": "code",
   "execution_count": 213,
   "metadata": {},
   "outputs": [
    {
     "data": {
      "text/plain": [
       "Text(0.5, 1.0, '95% of Explained Variance')"
      ]
     },
     "execution_count": 213,
     "metadata": {},
     "output_type": "execute_result"
    },
    {
     "data": {
      "image/png": "[encoded data removed]",
      "text/plain": [
       "<Figure size 800x400 with 2 Axes>"
      ]
     },
     "metadata": {},
     "output_type": "display_data"
    }
   ],
   "source": [
    "approximation = pca.inverse_transform(lower_dimensional_data)\n",
    "\n",
    "plt.figure(figsize=(8,4))\n",
    "\n",
    "# Original Image, first data sample\n",
    "plt.subplot(1, 2, 1)\n",
    "label,pixels=mnist[0] #you can modify the originalsample to show\n",
    "plt.imshow(pixels,\n",
    "              cmap = plt.cm.gray, interpolation='nearest',\n",
    "              clim=(0, 255));\n",
    "plt.xlabel('784 components', fontsize = 14)\n",
    "plt.title('Original Image', fontsize = 20);\n",
    "\n",
    "# 154 principal components\n",
    "plt.subplot(1, 2, 2)\n",
    "plt.imshow(approximation[0].reshape(28, 28),   #remmebr to modify the approximation \n",
    "              cmap = plt.cm.gray, interpolation='nearest',\n",
    "              clim=(0, 255));\n",
    "plt.xlabel('154 components', fontsize = 14)\n",
    "plt.title('95% of Explained Variance', fontsize = 20)"
   ]
  },
  {
   "cell_type": "markdown",
   "metadata": {},
   "source": [
    "<font color='red'>TASK: TRY DIFFERENT RECONSTRUCTIONS ACCORDING TO DIFFERENT VARIANCES OVER DIFFERENT DATA SAMPLES TO UNDERERSTAND EFFECTS ON IMAGES</font> "
   ]
  },
  {
   "cell_type": "code",
   "execution_count": null,
   "metadata": {
    "collapsed": true
   },
   "outputs": [],
   "source": [
    "# Add your code"
   ]
  },
  {
   "cell_type": "markdown",
   "metadata": {},
   "source": [
    "#### PCA as a feature extraction\n",
    "\n",
    "We can use the projections into the PCA space as a feature vector. Lets try to plot the first 2 components of the PCA projections"
   ]
  },
  {
   "cell_type": "code",
   "execution_count": null,
   "metadata": {},
   "outputs": [],
   "source": [
    "#We will plot the first 4000 samples\n",
    "plt.scatter(lower_dimensional_data[:4000, 0], lower_dimensional_data[:4000, 1], c=y[:4000], edgecolor='none', alpha=0.7, lw=1,\n",
    "           cmap=plt.get_cmap('jet', 10), s=5)\n",
    "plt.colorbar()"
   ]
  },
  {
   "cell_type": "markdown",
   "metadata": {},
   "source": [
    "<font color='red'>TASK: TRY DIFFERENT PCA COMPONENTS COMBINATIONS AND SHOW THE CUMULATIVE EXPLAINED VARIANCE FOR EACH COMBINATION</font> "
   ]
  },
  {
   "cell_type": "code",
   "execution_count": null,
   "metadata": {
    "collapsed": true
   },
   "outputs": [],
   "source": []
  }
 ],
 "metadata": {
  "anaconda-cloud": {},
  "celltoolbar": "Slideshow",
  "kernelspec": {
   "display_name": "Python 3",
   "language": "python",
   "name": "python3"
  },
  "language_info": {
   "codemirror_mode": {
    "name": "ipython",
    "version": 3
   },
   "file_extension": ".py",
   "mimetype": "text/x-python",
   "name": "python",
   "nbconvert_exporter": "python",
   "pygments_lexer": "ipython3",
   "version": "3.10.12"
  }
 },
 "nbformat": 4,
 "nbformat_minor": 1
}
