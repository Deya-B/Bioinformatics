{
 "cells": [
  {
   "cell_type": "markdown",
   "metadata": {},
   "source": [
    "## Assignment 3: Timing code execution"
   ]
  },
  {
   "cell_type": "code",
   "execution_count": 1,
   "metadata": {
    "tags": []
   },
   "outputs": [],
   "source": [
    "%matplotlib inline\n",
    "\n",
    "import numpy as np\n",
    "import matplotlib.pyplot as plt"
   ]
  },
  {
   "cell_type": "markdown",
   "metadata": {},
   "source": [
    "### Question 1.\n",
    "\n",
    "The `%timeit` magic command can be used to get basic execution timing information.\n",
    "\n",
    "Explore its workings executing the Python commands below.\n",
    "\n",
    "Hay muchas formas de medir tiempo en programas, pero en notebooks se usa el %timeit que da mucha informacion básica sobre cuanto tardan en ejecutarse las cosas.\n",
    "Si nuestro programa es muy largo, timit no va a funcionar."
   ]
  },
  {
   "cell_type": "code",
   "execution_count": null,
   "metadata": {
    "tags": []
   },
   "outputs": [
    {
     "name": "stdout",
     "output_type": "stream",
     "text": [
      "5.86 μs ± 2.66 μs per loop (mean ± std. dev. of 10 runs, 1,000 loops each)\n",
      "['all_runs', 'average', 'best', 'compile_time', 'loops', 'repeat', 'stdev', 'timings', 'worst'] \n",
      "\n",
      "all_runs [0.012 0.009 0.008 0.007 0.004 0.004 0.004 0.004 0.004 0.003]\n",
      "repeat 10\n",
      "loops 1000\n",
      "compile_time 0.0003229999999998512\n",
      "average_time 5.855469499510946e-06\n",
      "best_time 3.10307900144835e-06\n",
      "worst_time 1.1512157998367911e-05\n"
     ]
    }
   ],
   "source": [
    "timings = %timeit -n 1000 -r 10 -o [k**2 for k in range(10)] # vamos a repetir 10 veces un loop en el que \n",
    "# 1000 veces se va a ejecutar el codigo python que aparece en la list comprehension, -o es el output\n",
    "# indicamos que guardamos la salida en el objeto timings. El código que tenemos que ejecutar no tiene porq\n",
    "# ser simple, podemos llamar algo complicado, pero no podemos llamar a 3 cosas complicadas por ej\n",
    "\n",
    "print(dir(timings)[-9 : ], '\\n')\n",
    "print(\"all_runs\", np.array(timings.all_runs).round(3))\n",
    "print(\"repeat\", timings.repeat)\n",
    "print(\"loops\", timings.loops) # tiempo q tardan los loops\n",
    "print(\"compile_time\", timings.compile_time) # como las cosas se compilan, xq es un lenguaje interpretado\n",
    "                                            # vemos cuanto tarda en compilar el programa\n",
    "print(\"average_time\", timings.average)\n",
    "print(\"best_time\", timings.best)\n",
    "print(\"worst_time\", timings.worst)\n",
    "\n",
    "# el tiempo más relevante es el best, porq el ordenador hace muchas cosas a la vez, con lo cual en el average\n",
    "# no tenemos el tiempo real. Sino que cosas q pasan en el ordenador afectan a esto.\n",
    "# Para estimar tiempo de ejecucion del algoritmo va mejor el BEST TIME"
   ]
  },
  {
   "cell_type": "markdown",
   "metadata": {},
   "source": [
    "### Question 2.\n",
    "\n",
    "Among our most expensive algorithms is the one for matrix multiplication. \n",
    "\n",
    "Use the `%timeit` magic command to measure its execution times for the multiplication of random matrices with sizes between 10 and 20, storing the best execution times in a list with dimension and time pairs that you can then use to further explore them."
   ]
  },
  {
   "cell_type": "code",
   "execution_count": 3,
   "metadata": {
    "tags": []
   },
   "outputs": [
    {
     "name": "stdout",
     "output_type": "stream",
     "text": [
      "\n",
      "dim:  10\n",
      "487 µs ± 32.8 µs per loop (mean ± std. dev. of 5 runs, 10 loops each)\n",
      "\n",
      "dim:  11\n",
      "695 µs ± 54.5 µs per loop (mean ± std. dev. of 5 runs, 10 loops each)\n",
      "\n",
      "dim:  12\n",
      "850 µs ± 24.4 µs per loop (mean ± std. dev. of 5 runs, 10 loops each)\n",
      "\n",
      "dim:  13\n",
      "1.13 ms ± 35.8 µs per loop (mean ± std. dev. of 5 runs, 10 loops each)\n",
      "\n",
      "dim:  14\n",
      "1.39 ms ± 62.3 µs per loop (mean ± std. dev. of 5 runs, 10 loops each)\n",
      "\n",
      "dim:  15\n",
      "1.71 ms ± 52.6 µs per loop (mean ± std. dev. of 5 runs, 10 loops each)\n",
      "\n",
      "dim:  16\n",
      "1.96 ms ± 15.4 µs per loop (mean ± std. dev. of 5 runs, 10 loops each)\n",
      "\n",
      "dim:  17\n",
      "2.57 ms ± 172 µs per loop (mean ± std. dev. of 5 runs, 10 loops each)\n",
      "\n",
      "dim:  18\n",
      "3.17 ms ± 51.7 µs per loop (mean ± std. dev. of 5 runs, 10 loops each)\n",
      "\n",
      "dim:  19\n",
      "3.94 ms ± 109 µs per loop (mean ± std. dev. of 5 runs, 10 loops each)\n",
      "\n",
      "dim:  20\n",
      "4.6 ms ± 151 µs per loop (mean ± std. dev. of 5 runs, 10 loops each)\n",
      "[[1.00000000e+01 4.59019979e-04]\n",
      " [1.10000000e+01 6.37770002e-04]\n",
      " [1.20000000e+01 8.05449998e-04]\n",
      " [1.30000000e+01 1.06883000e-03]\n",
      " [1.40000000e+01 1.29894998e-03]\n",
      " [1.50000000e+01 1.66158001e-03]\n",
      " [1.60000000e+01 1.94500000e-03]\n",
      " [1.70000000e+01 2.36683001e-03]\n",
      " [1.80000000e+01 3.09969999e-03]\n",
      " [1.90000000e+01 3.76861000e-03]\n",
      " [2.00000000e+01 4.36652000e-03]]\n"
     ]
    }
   ],
   "source": [
    "def matrix_multiplication(m_1: np.ndarray, m_2: np.ndarray) -> np.ndarray:\n",
    "    # ndarray> array n dimensional, con las dimensiones q sea...\n",
    "    \"\"\"\n",
    "    Perform matrix multiplication between two 2D numpy arrays.\n",
    "        Args:\n",
    "            m_1 (np.ndarray): The first matrix with shape (n_rows, n_interm).\n",
    "            m_2 (np.ndarray): The second matrix with shape (n_interm, n_columns).\n",
    "        Returns:\n",
    "            np.ndarray: The resulting matrix product with shape (n_rows, n_columns).\n",
    "        Raises:\n",
    "            ValueError: If the number of columns in the first matrix does not match the number of rows in the second matrix.\n",
    "    \"\"\"\n",
    "    n_rows, n_interm, n_columns = \\\n",
    "        m_1.shape[0], m_2.shape[0], m_2.shape[1]\n",
    "    \n",
    "    # Programación defensiva > incorporar el raise ValueError\n",
    "    # comprobar q m1 y m2 tienen shape 2\n",
    "\n",
    "    m_product = np.zeros( (n_rows, n_columns) )\n",
    "    \n",
    "    for p in range(n_rows):\n",
    "        for q in range(n_columns):\n",
    "            for r in range(n_interm):\n",
    "                m_product[p, q] += m_1[p, r] * m_2[r, q]\n",
    "                \n",
    "    return m_product\n",
    "\n",
    "l_timings = []\n",
    "for i in range(11): # llegando hasta 10\n",
    "    dim = 10 + i # de 10 a 20 vamos a generar\n",
    "    m = np.random.uniform(0., 100, (dim, dim)) # una matriz uniforme con dimension dim dim\n",
    "    print(\"\\ndim: \", dim)\n",
    "    timings = %timeit -o -n 10 -r 5 matrix_multiplication(m, m) # repetimos la multiplicacion 10 x 5 veces\n",
    "    l_timings.append([dim, timings.best])   # en una lista vacía añado la dimension y el best time\n",
    "    \n",
    "a_timings = np.array(l_timings)\n",
    "print(a_timings)"
   ]
  },
  {
   "cell_type": "markdown",
   "metadata": {
    "tags": []
   },
   "source": [
    "### Question 3.\n",
    "\n",
    "Plot the best times you have got from the previous execution, striving to make your picture as informative as possible.\n",
    "\n",
    "Which kind of time function you should get? Do you actually get it?"
   ]
  },
  {
   "cell_type": "code",
   "execution_count": 4,
   "metadata": {
    "tags": []
   },
   "outputs": [
    {
     "data": {
      "text/plain": [
       "[<matplotlib.lines.Line2D at 0x16d51ccfe50>]"
      ]
     },
     "execution_count": 4,
     "metadata": {},
     "output_type": "execute_result"
    },
    {
     "data": {
      "image/png": "[encoded data removed]",
      "text/plain": [
       "<Figure size 640x480 with 1 Axes>"
      ]
     },
     "metadata": {},
     "output_type": "display_data"
    }
   ],
   "source": [
    "#transform l_timings in a numpy array and normalize the times in an adequate way\n",
    "plt.plot(a_timings[:, 0], a_timings[:, 1], '.')\n",
    "\n",
    "# sabemos q ls tiempos incrementan cubicamente, asi que este incremento tiene sentido al respecto"
   ]
  },
  {
   "cell_type": "markdown",
   "metadata": {},
   "source": [
    "### Question 4.\n",
    "\n",
    "We are aware that our matrix multiplication function is not going to be very efficient.\n",
    "\n",
    "In order to ascertain this, repeat the previous experiments but using now Numpy's `dot` method. Try to limit `timeit`'s verbosity."
   ]
  },
  {
   "cell_type": "code",
   "execution_count": 3,
   "metadata": {},
   "outputs": [
    {
     "name": "stdout",
     "output_type": "stream",
     "text": [
      "\n",
      "dim:  10\n",
      "The slowest run took 239.58 times longer than the fastest. This could mean that an intermediate result is being cached.\n",
      "48.4 μs ± 139 μs per loop (mean ± std. dev. of 10 runs, 50 loops each)\n",
      "\n",
      "dim:  15\n",
      "4.41 μs ± 1.52 μs per loop (mean ± std. dev. of 10 runs, 50 loops each)\n",
      "\n",
      "dim:  20\n",
      "4.67 μs ± 1.06 μs per loop (mean ± std. dev. of 10 runs, 50 loops each)\n",
      "\n",
      "dim:  25\n",
      "9.89 μs ± 2.54 μs per loop (mean ± std. dev. of 10 runs, 50 loops each)\n",
      "\n",
      "dim:  30\n",
      "5.5 μs ± 1.11 μs per loop (mean ± std. dev. of 10 runs, 50 loops each)\n",
      "\n",
      "dim:  35\n",
      "The slowest run took 5.86 times longer than the fastest. This could mean that an intermediate result is being cached.\n",
      "11.9 μs ± 9.5 μs per loop (mean ± std. dev. of 10 runs, 50 loops each)\n",
      "\n",
      "dim:  40\n",
      "7.9 μs ± 507 ns per loop (mean ± std. dev. of 10 runs, 50 loops each)\n",
      "\n",
      "dim:  45\n",
      "12 μs ± 629 ns per loop (mean ± std. dev. of 10 runs, 50 loops each)\n",
      "\n",
      "dim:  50\n",
      "13.3 μs ± 549 ns per loop (mean ± std. dev. of 10 runs, 50 loops each)\n",
      "\n",
      "dim:  55\n",
      "21 μs ± 2.7 μs per loop (mean ± std. dev. of 10 runs, 50 loops each)\n",
      "\n",
      "dim:  60\n",
      "22.1 μs ± 1.49 μs per loop (mean ± std. dev. of 10 runs, 50 loops each)\n",
      "\n",
      "dim:  65\n",
      "28.9 μs ± 5.66 μs per loop (mean ± std. dev. of 10 runs, 50 loops each)\n",
      "\n",
      "dim:  70\n",
      "46.1 μs ± 7.93 μs per loop (mean ± std. dev. of 10 runs, 50 loops each)\n",
      "\n",
      "dim:  75\n",
      "60.6 μs ± 12.4 μs per loop (mean ± std. dev. of 10 runs, 50 loops each)\n",
      "\n",
      "dim:  80\n",
      "63.6 μs ± 10.7 μs per loop (mean ± std. dev. of 10 runs, 50 loops each)\n",
      "\n",
      "dim:  85\n",
      "The slowest run took 15.11 times longer than the fastest. This could mean that an intermediate result is being cached.\n",
      "115 μs ± 179 μs per loop (mean ± std. dev. of 10 runs, 50 loops each)\n",
      "\n",
      "dim:  90\n",
      "66.8 μs ± 6.88 μs per loop (mean ± std. dev. of 10 runs, 50 loops each)\n",
      "\n",
      "dim:  95\n",
      "62 μs ± 6.84 μs per loop (mean ± std. dev. of 10 runs, 50 loops each)\n",
      "\n",
      "dim:  100\n",
      "68.1 μs ± 2.28 μs per loop (mean ± std. dev. of 10 runs, 50 loops each)\n",
      "\n",
      "dim:  105\n",
      "109 μs ± 34.6 μs per loop (mean ± std. dev. of 10 runs, 50 loops each)\n",
      "\n",
      "dim:  110\n",
      "The slowest run took 4.84 times longer than the fastest. This could mean that an intermediate result is being cached.\n",
      "184 μs ± 93.5 μs per loop (mean ± std. dev. of 10 runs, 50 loops each)\n",
      "\n",
      "dim:  115\n",
      "133 μs ± 36.3 μs per loop (mean ± std. dev. of 10 runs, 50 loops each)\n",
      "\n",
      "dim:  120\n",
      "165 μs ± 60 μs per loop (mean ± std. dev. of 10 runs, 50 loops each)\n",
      "\n",
      "dim:  125\n",
      "129 μs ± 31.9 μs per loop (mean ± std. dev. of 10 runs, 50 loops each)\n",
      "\n",
      "dim:  130\n",
      "141 μs ± 48 μs per loop (mean ± std. dev. of 10 runs, 50 loops each)\n",
      "\n",
      "dim:  135\n",
      "191 μs ± 64 μs per loop (mean ± std. dev. of 10 runs, 50 loops each)\n",
      "\n",
      "dim:  140\n",
      "215 μs ± 54.3 μs per loop (mean ± std. dev. of 10 runs, 50 loops each)\n",
      "\n",
      "dim:  145\n",
      "215 μs ± 69.5 μs per loop (mean ± std. dev. of 10 runs, 50 loops each)\n",
      "\n",
      "dim:  150\n",
      "232 μs ± 59.4 μs per loop (mean ± std. dev. of 10 runs, 50 loops each)\n",
      "\n",
      "dim:  155\n",
      "289 μs ± 97.5 μs per loop (mean ± std. dev. of 10 runs, 50 loops each)\n",
      "\n",
      "dim:  160\n",
      "220 μs ± 51 μs per loop (mean ± std. dev. of 10 runs, 50 loops each)\n",
      "\n",
      "dim:  165\n",
      "296 μs ± 112 μs per loop (mean ± std. dev. of 10 runs, 50 loops each)\n",
      "\n",
      "dim:  170\n",
      "386 μs ± 154 μs per loop (mean ± std. dev. of 10 runs, 50 loops each)\n",
      "\n",
      "dim:  175\n",
      "362 μs ± 98.8 μs per loop (mean ± std. dev. of 10 runs, 50 loops each)\n",
      "\n",
      "dim:  180\n",
      "374 μs ± 101 μs per loop (mean ± std. dev. of 10 runs, 50 loops each)\n",
      "\n",
      "dim:  185\n",
      "441 μs ± 91.4 μs per loop (mean ± std. dev. of 10 runs, 50 loops each)\n",
      "\n",
      "dim:  190\n",
      "The slowest run took 6.59 times longer than the fastest. This could mean that an intermediate result is being cached.\n",
      "664 μs ± 576 μs per loop (mean ± std. dev. of 10 runs, 50 loops each)\n",
      "\n",
      "dim:  195\n",
      "1.19 ms ± 439 μs per loop (mean ± std. dev. of 10 runs, 50 loops each)\n",
      "\n",
      "dim:  200\n",
      "499 μs ± 173 μs per loop (mean ± std. dev. of 10 runs, 50 loops each)\n",
      "\n",
      "dim:  205\n",
      "The slowest run took 4.80 times longer than the fastest. This could mean that an intermediate result is being cached.\n",
      "1.05 ms ± 521 μs per loop (mean ± std. dev. of 10 runs, 50 loops each)\n",
      "\n",
      "dim:  210\n",
      "647 μs ± 187 μs per loop (mean ± std. dev. of 10 runs, 50 loops each)\n",
      "\n",
      "dim:  215\n",
      "653 μs ± 107 μs per loop (mean ± std. dev. of 10 runs, 50 loops each)\n",
      "\n",
      "dim:  220\n",
      "664 μs ± 85.4 μs per loop (mean ± std. dev. of 10 runs, 50 loops each)\n",
      "\n",
      "dim:  225\n",
      "725 μs ± 225 μs per loop (mean ± std. dev. of 10 runs, 50 loops each)\n",
      "\n",
      "dim:  230\n",
      "781 μs ± 179 μs per loop (mean ± std. dev. of 10 runs, 50 loops each)\n",
      "\n",
      "dim:  235\n",
      "809 μs ± 131 μs per loop (mean ± std. dev. of 10 runs, 50 loops each)\n",
      "\n",
      "dim:  240\n",
      "804 μs ± 155 μs per loop (mean ± std. dev. of 10 runs, 50 loops each)\n",
      "\n",
      "dim:  245\n",
      "873 μs ± 176 μs per loop (mean ± std. dev. of 10 runs, 50 loops each)\n",
      "\n",
      "dim:  250\n",
      "949 μs ± 168 μs per loop (mean ± std. dev. of 10 runs, 50 loops each)\n",
      "\n",
      "dim:  255\n",
      "940 μs ± 124 μs per loop (mean ± std. dev. of 10 runs, 50 loops each)\n",
      "\n",
      "dim:  260\n",
      "1 ms ± 286 μs per loop (mean ± std. dev. of 10 runs, 50 loops each)\n"
     ]
    },
    {
     "data": {
      "text/plain": [
       "[<matplotlib.lines.Line2D at 0x79d4b7f67be0>]"
      ]
     },
     "execution_count": 3,
     "metadata": {},
     "output_type": "execute_result"
    },
    {
     "data": {
      "image/png": "[encoded data removed]",
      "text/plain": [
       "<Figure size 640x480 with 1 Axes>"
      ]
     },
     "metadata": {},
     "output_type": "display_data"
    }
   ],
   "source": [
    "# Hemos visto que nuestra función no es muy eficiente, no hace las cosas bien, y rápido\n",
    "# porque? OJO EN PYTHON CON LOS BUCLES FOR... Hay que intentar evitarlos cuando se pueda.\n",
    "# El tipo de bucle for que hems usado en la funcion anterior, que tenemos bucles anidados\n",
    "# Si hay que hacer loops, es mejor hacerlo sobre listas predefinidas, que no haga falta crearlas.\n",
    "\n",
    "# Aquí mejoramos esto:\n",
    "\n",
    "l_timings_np = []\n",
    "for i in range(51):\n",
    "    #reproduce your previous code but timing now the numpy multiplication times\n",
    "    dim = 10 + 5 * i\n",
    "    #put your code here\n",
    "    m = np.random.uniform(0., 100, (dim, dim))\n",
    "    print(\"\\ndim: \", dim)\n",
    "    timings = %timeit -o -n 50 -r 10 m.dot(m) # multiplicación de numpy >>> m.dot(m)\n",
    "    l_timings_np.append([dim, timings.best])\n",
    "    \n",
    "#put your plot here\n",
    "a_timings_np  = np.array(l_timings_np )\n",
    "\n",
    "plt.plot(a_timings_np [:, 0], a_timings_np [:, 1], '.')\n",
    "\n",
    "\n",
    "# Cuanto menos programemos mejor... si hay que multiplicar matrices, es mejor usar numpy que usar una \n",
    "# funcion q creemos nosotros.\n",
    "# Podemos multiplicar con numpy poniendo:\n",
    "        # m.dot(n)\n",
    "        # o con\n",
    "        # m@n"
   ]
  },
  {
   "cell_type": "markdown",
   "metadata": {},
   "source": [
    "### Question 5.\n",
    "\n",
    "Our execution times should have a companion mathematical function that gives us their theoretical growth.\n",
    "\n",
    "Use the code below to fit a suitable such function to your time listings."
   ]
  },
  {
   "cell_type": "code",
   "execution_count": null,
   "metadata": {
    "tags": []
   },
   "outputs": [
    {
     "name": "stdout",
     "output_type": "stream",
     "text": [
      "coef a 4.770640334599132e-11 coef b 1.3120683007903295e-05\n"
     ]
    },
    {
     "data": {
      "text/plain": [
       "[<matplotlib.lines.Line2D at 0x79d49c365f30>,\n",
       " <matplotlib.lines.Line2D at 0x79d49c365fc0>]"
      ]
     },
     "execution_count": 4,
     "metadata": {},
     "output_type": "execute_result"
    },
    {
     "data": {
      "image/png": "[encoded data removed]",
      "text/plain": [
       "<Figure size 640x480 with 1 Axes>"
      ]
     },
     "metadata": {},
     "output_type": "display_data"
    }
   ],
   "source": [
    "#check https://docs.scipy.org/doc/scipy/reference/generated/scipy.optimize.curve_fit.html for more information\n",
    "from scipy.optimize import curve_fit # libreria de calculo cientifico, similar a numpy\n",
    "\n",
    "def my_f(x, a, b): # x es la dimension, y a y b crean la funcion que queremos que se ajuste a los valores\n",
    "    #change this appropriately\n",
    "    return a * x**3. + b\n",
    "# ejes\n",
    "x = a_timings_np[ : , 0]    # array de las coordenadas x, en x las dimensiones en y los tiempos (col 0)\n",
    "y = a_timings_np[ : , 1]    # array cn ls coord de y (col 1 del array a_timings_np)\n",
    "\n",
    "(a, b), _ = curve_fit(my_f, x, y) # ajustame la funcion con x e y\n",
    "print('coef a', a, 'coef b',b)\n",
    "plt.plot(x, y, 'b.', x, my_f(x, a, b), 'r-') # 'b.' tiempo azul, y la linea de la funcion como una \n",
    "                                             # linea roja ('r-')"
   ]
  }
 ],
 "metadata": {
  "kernelspec": {
   "display_name": "Python 3",
   "language": "python",
   "name": "python3"
  },
  "language_info": {
   "codemirror_mode": {
    "name": "ipython",
    "version": 3
   },
   "file_extension": ".py",
   "mimetype": "text/x-python",
   "name": "python",
   "nbconvert_exporter": "python",
   "pygments_lexer": "ipython3",
   "version": "3.10.12"
  }
 },
 "nbformat": 4,
 "nbformat_minor": 4
}
