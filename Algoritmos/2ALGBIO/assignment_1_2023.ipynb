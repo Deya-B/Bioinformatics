{
 "cells": [
  {
   "cell_type": "markdown",
   "metadata": {
    "jp-MarkdownHeadingCollapsed": true,
    "tags": []
   },
   "source": [
    "You may find useful the Python notes in \n",
    "\n",
    "https://github.com/joseDorronsoro/Notes-on-Python/blob/master/slides_python_short_2020.pdf\n",
    "\n",
    "In particular, chapter 3 deals with strings in Python and chapter 6 deals with files."
   ]
  },
  {
   "cell_type": "markdown",
   "metadata": {
    "tags": []
   },
   "source": [
    "## Assignment 1: Working with strings\n",
    "\n",
    "\n",
    "### Question 1.\n",
    "\n",
    "The `string` module has a number of useful strings such as `ascii_letters`. Import it into the shell and apply `dir(string)` to find out about them.\n",
    "\n",
    "What does Python consider punctuation marks? And whitespace?\n",
    "\n",
    "What is the function/effect of the various whitespace symbols?\n",
    "\n",
    "\n",
    "Podemos ver los atributos y metodos del modulo string con dir().\n",
    "Lo que empieza con _ lo dejamos de lado. No vamos a tener q acceder a ellos.\n",
    "Lo importantes son los métodos.\n",
    "Para ver que es cada cosa hay que hacer un print."
   ]
  },
  {
   "cell_type": "code",
   "execution_count": 4,
   "metadata": {},
   "outputs": [
    {
     "data": {
      "text/plain": [
       "['Formatter',\n",
       " 'Template',\n",
       " '_ChainMap',\n",
       " '__all__',\n",
       " '__builtins__',\n",
       " '__cached__',\n",
       " '__doc__',\n",
       " '__file__',\n",
       " '__loader__',\n",
       " '__name__',\n",
       " '__package__',\n",
       " '__spec__',\n",
       " '_re',\n",
       " '_sentinel_dict',\n",
       " '_string',\n",
       " 'ascii_letters',\n",
       " 'ascii_lowercase',\n",
       " 'ascii_uppercase',\n",
       " 'capwords',\n",
       " 'digits',\n",
       " 'hexdigits',\n",
       " 'octdigits',\n",
       " 'printable',\n",
       " 'punctuation',\n",
       " 'whitespace']"
      ]
     },
     "execution_count": 4,
     "metadata": {},
     "output_type": "execute_result"
    }
   ],
   "source": [
    "import string\n",
    "\n",
    "dir(string)\n"
   ]
  },
  {
   "cell_type": "code",
   "execution_count": 70,
   "metadata": {},
   "outputs": [
    {
     "name": "stdout",
     "output_type": "stream",
     "text": [
      "!\"#$%&'()*+,-./:;<=>?@[\\]^_`{|}~\n",
      "' \\t\\n\\r\\x0b\\x0c'\n",
      " \t\n",
      "\u000b\f\n",
      "\n",
      "Inspecting whitespace elements:\n",
      "1 [' ']\n",
      "Text before   Text after\n",
      "\n",
      "2 ['\\t']\n",
      "Text before \t Text after\n",
      "\n",
      "3 ['\\n']\n",
      "Text before \n",
      " Text after\n",
      "\n",
      "4 ['\\r']\n",
      " Text after \n",
      "\n",
      "5 ['\\x0b']\n",
      "Text before \u000b Text after\n",
      "\n",
      "6 ['\\x0c']\n",
      "Text before \f Text after\n",
      "\n"
     ]
    }
   ],
   "source": [
    "print(string.punctuation)   # vemos los signos de puntuacion\n",
    "\n",
    "# why do the next lines show different outputs?\n",
    "print(repr(string.whitespace)) # El metodo repr nos da la representacion imprimible\n",
    "                                 # con whitespace nos da los posibles espacios\n",
    "print(string.whitespace)    # Sin el repr imprimimos todos los caracteres en blanco\n",
    "\n",
    "print (\"\\nInspecting whitespace elements:\")\n",
    "tolist = list(string.whitespace)\n",
    "count = 1\n",
    "for element in tolist:\n",
    "    print(count, [element])\n",
    "    print(\"Text before\", element, \"Text after\\n\")\n",
    "    count += 1"
   ]
  },
  {
   "cell_type": "markdown",
   "metadata": {},
   "source": [
    "### Question 2.\n",
    "\n",
    "A **protein** can be considered as a sequence of letters from the alphabet list `['A', 'C', 'G', 'T']`.\n",
    "\n",
    "We want to generate random proteins using the method `choice` of the `numpy.random` submodule.\n",
    "\n",
    "Write a function `random_protein(length)` that returns a string with `lenght` characters chosen randomly from `l_bases = ['A', 'C', 'G', 'T']` list.    \n",
    "\n",
    "Hint: apply repeatedly `random.choice` over `l_bases` adding the choices into a list and then convert it into a string using the `join` string method."
   ]
  },
  {
   "cell_type": "code",
   "execution_count": 24,
   "metadata": {},
   "outputs": [
    {
     "name": "stdout",
     "output_type": "stream",
     "text": [
      "CATATTATGA\n"
     ]
    }
   ],
   "source": [
    "from numpy.random import choice\n",
    "\n",
    "def random_protein(length):\n",
    "    \"\"\"\n",
    "    Generate a random sequence of given length.\n",
    "    \n",
    "    Parameters: \n",
    "        length(int)\n",
    "\n",
    "    Returns: \n",
    "        sequence\n",
    "    \"\"\"\n",
    "    l_bases = ['A', 'C', 'G', 'T']\n",
    "    sequence = \"\"\n",
    "    if length > 0:\n",
    "        for _ in range (length):\n",
    "            c = choice(l_bases)\n",
    "            sequence+=c\n",
    "    else:\n",
    "        print(\"The number must be a positive number of length > 0.\")\n",
    "    return sequence\n",
    "\n",
    "print(random_protein(10))"
   ]
  },
  {
   "cell_type": "markdown",
   "metadata": {},
   "source": [
    "### Question 3.\n",
    "\n",
    "We are not too sure that our protein string is truly random.\n",
    "\n",
    "To check it write a function `count_bases_0(str_protein)` that returns a dict with keys the bases and values their absolute frequencies (i.e., if at the end we have `'A':153` it means that `'A'` appears 153 times in `str_protein`).   \n",
    "\n",
    "As a suggestion (easy to improve) you can just set a define `d_freqs` where `d_freqs['L']` is a counter for letter `'L'` with an initial value of 0 and simply will traverse the string and increase the value of the corresponding dict's key."
   ]
  },
  {
   "cell_type": "code",
   "execution_count": null,
   "metadata": {},
   "outputs": [
    {
     "name": "stdout",
     "output_type": "stream",
     "text": [
      "mis freqs {'A': 129, 'C': 123, 'G': 137, 'T': 111} \n",
      "uniform frequency: 125\n"
     ]
    }
   ],
   "source": [
    "def count_bases_0(str_protein):\n",
    "    \"\"\"\n",
    "    \"\"\"\n",
    "    bases_dict = {}\n",
    "    for k in [\"A\", \"C\", \"G\", \"T\"]:\n",
    "        bases_dict[k]=0\n",
    "    for base in str_protein:\n",
    "        bases_dict[base] += 1\n",
    "    return bases_dict\n",
    "\n",
    "length = 500\n",
    "str_protein = random_protein(length)\n",
    "\n",
    "d_freqs = count_bases_0(str_protein)\n",
    "\n",
    "print(\"mis freqs\", d_freqs, \"\\nuniform frequency: %d\" % (length//4))\n",
    "        # el %d indica que imprima lo que sea con un formato d enmero entero > por lo tanto iprime la \n",
    "        # division como un numero entero"
   ]
  },
  {
   "cell_type": "markdown",
   "metadata": {},
   "source": [
    "### Question 4.\n",
    "\n",
    "To work with files in Python we first open them (i.e., get a handle to traverse them) as in `f = open('name.txt', 'r')` and then proceed to read it. Useful methods for this are \n",
    "\n",
    "* `f.read()` which returns a string with the entire file; \n",
    "* `f.readline()` which returns a string with the next line; \n",
    "* `f.readlines()` which returns a list of string with each of the file lines.\n",
    "\n",
    "Write a function `num_lines_chars(f_name)` that returns the number of lines and chars in the text file named `f_name` and compare your results with those of the Linux command `wc -cl f_name`."
   ]
  },
  {
   "cell_type": "code",
   "execution_count": 1,
   "metadata": {},
   "outputs": [
    {
     "name": "stdout",
     "output_type": "stream",
     "text": [
      "(333, 9944)\n",
      "(333, 9944)\n"
     ]
    }
   ],
   "source": [
    "def num_lines_chars(f_name):\n",
    "    \"\"\"We can read the file as a string with the method `.read` for files in section 6 of the pdf\n",
    "    in https://github.com/joseDorronsoro/Notes-on-Python/blob/master/slides_python_short_2020.pdf\n",
    "  \n",
    "    We can also use a counter and increase it each time we use the method '.readline'. \n",
    "  \n",
    "    The number of chars will be the length of the string and since each line ends with '\\n,'\n",
    "    we can count these carriage returns to get the number of lines.\n",
    "    \"\"\"\n",
    "    with open (f_name, \"r\") as f:\n",
    "        chain = f.readlines()\n",
    "        lines = 0\n",
    "        characters = 0\n",
    "        for line in chain:\n",
    "            lines += 1\n",
    "            for character in line:\n",
    "                characters += 1\n",
    "    return lines, characters\n",
    "  \n",
    "f_name = \"assignment_1_2023.ipynb\"\n",
    "print(num_lines_chars(f_name))\n",
    "\n",
    "\n",
    "# Another way to do it:\n",
    "def num_lines_chars1(f_name):\n",
    "    \"\"\"\n",
    "    \"\"\"\n",
    "\n",
    "    with open (f_name, \"r\") as f:\n",
    "        chain = f.read()\n",
    "        \n",
    "    return chain.count(\"\\n\"), len(chain) # contar los saltos de linea para el numero de lineas\n",
    "                                         # y el largo de f.read() para el numero de caracteres\n",
    "    \n",
    "f_name = \"assignment_1_2023.ipynb\"\n",
    "print(num_lines_chars1(f_name))"
   ]
  }
 ],
 "metadata": {
  "kernelspec": {
   "display_name": "Python 3",
   "language": "python",
   "name": "python3"
  },
  "language_info": {
   "codemirror_mode": {
    "name": "ipython",
    "version": 3
   },
   "file_extension": ".py",
   "mimetype": "text/x-python",
   "name": "python",
   "nbconvert_exporter": "python",
   "pygments_lexer": "ipython3",
   "version": "3.10.12"
  }
 },
 "nbformat": 4,
 "nbformat_minor": 4
}
