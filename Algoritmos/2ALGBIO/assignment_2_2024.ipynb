{
 "cells": [
  {
   "cell_type": "code",
   "execution_count": 1,
   "metadata": {},
   "outputs": [],
   "source": [
    "## Assignment 2"
   ]
  },
  {
   "cell_type": "markdown",
   "metadata": {},
   "source": [
    "\n",
    "\n",
    "\n",
    "### Question 1.\n",
    "\n",
    "To work with files in Python we first open them (i.e., get a handle to traverse them) as in `f = open('name.txt', 'r')` and then proceed to read it. Useful methods for this are \n",
    "\n",
    "* `f.read()` which returns a string with the entire file; \n",
    "* `f.readline()` which returns a string with the next line; \n",
    "* `f.readlines()` which returns a list of string with each of the file lines.\n",
    "\n",
    "Write a function `num_lines_chars(f_name)` that returns the number of lines and chars in the text file named `f_name`."
   ]
  },
  {
   "cell_type": "markdown",
   "metadata": {},
   "source": [
    "### Question 1.\n",
    "\n",
    "Write a function `num_non_wspace_chars(f_name)` that returns the number of non whitespace chars in a text file."
   ]
  },
  {
   "cell_type": "code",
   "execution_count": null,
   "metadata": {},
   "outputs": [
    {
     "name": "stdout",
     "output_type": "stream",
     "text": [
      "7057\n"
     ]
    }
   ],
   "source": [
    "# CON EL METODO STRING.WHITESPACE.\n",
    "import string\n",
    "\n",
    "def num_non_wspace_chars(f_name):\n",
    "    \"\"\"We can read the file as a string and apply to it the method .split()\n",
    "    that ignores any whitespace and returns a list with its words.\n",
    "    We can then join these words with nothing between them.\n",
    "    \"\"\"\n",
    "    with open (f_name, \"r\") as f:\n",
    "        seq = f.read() # leer contenido de archivo como si fuera una cadena\n",
    "        count = 0\n",
    "        for c in seq: \n",
    "            if c not in string.whitespace:\n",
    "                count += 1\n",
    "        return count\n",
    "\n",
    "f_name = \"assignment_1_2023.ipynb\"    \n",
    "f = \"test.txt\"\n",
    "print(num_non_wspace_chars(f_name))"
   ]
  },
  {
   "cell_type": "code",
   "execution_count": 14,
   "metadata": {},
   "outputs": [
    {
     "name": "stdout",
     "output_type": "stream",
     "text": [
      "7057\n"
     ]
    }
   ],
   "source": [
    "def num_non_wspace_chars(f_name):\n",
    "    \"\"\"We can read the file as a string and apply to it the method .split()\n",
    "    that ignores any whitespace and returns a list with its words.\n",
    "    We can then join these words with nothing between them.\n",
    "    \"\"\"\n",
    "    with open (f_name, \"r\") as f:\n",
    "        seq = f.read()\n",
    "        tolist = seq.split() # Split espacios en blanco y crear una lista\n",
    "                            # IMPORTANTE: text.split() ASI, para espacios en blanco\n",
    "        characters = ''.join(tolist) # join all chars without spaces\n",
    "        count = 0\n",
    "        for _ in characters:\n",
    "            count += 1\n",
    "        return count\n",
    "        \n",
    "f_name = \"assignment_1_2023.ipynb\"    \n",
    "f = \"test.txt\"\n",
    "print(num_non_wspace_chars(f_name))"
   ]
  },
  {
   "cell_type": "markdown",
   "metadata": {},
   "source": [
    "### Question 2.\n",
    "\n",
    "Write a function `num_words(f_name)` that returns the number of words (i.e., groups of chars surrounded by whitespace) in a text file.\n",
    "\n",
    "Hint: `strng.split()`?"
   ]
  },
  {
   "cell_type": "code",
   "execution_count": 17,
   "metadata": {},
   "outputs": [
    {
     "name": "stdout",
     "output_type": "stream",
     "text": [
      "1193\n"
     ]
    }
   ],
   "source": [
    "def num_words(f_name):\n",
    "    \"\"\"Just change slightly the approach/code of the previous function.\n",
    "    \"\"\"\n",
    "    with open (f_name, \"r\") as f:\n",
    "        file = f.read()\n",
    "        tolist = file.split(' ') # Crear una lista con palabras separadas por espacios\n",
    "        count = 0\n",
    "        for _ in tolist:\n",
    "            count += 1\n",
    "    return count\n",
    "\n",
    "f_name = \"assignment_1_2023.ipynb\" \n",
    "print(num_words(f_name))"
   ]
  },
  {
   "cell_type": "markdown",
   "metadata": {},
   "source": [
    "### Question 3.\n",
    "\n",
    "Once we have written some (hopefully) useful code in a notebook we would like to keep it as a `.py` file.\n",
    "\n",
    "We can do so by downloading it as a Python file but with the inconvenience of getting all the markdown as commented lines.\n",
    "\n",
    "Write a function `clean_notebook(f_in, f_out)` that reads such a file `f_in` and saves it as a new Python file `f_out`where all those inconvenient lines are removed."
   ]
  },
  {
   "cell_type": "code",
   "execution_count": 2,
   "metadata": {},
   "outputs": [
    {
     "name": "stdout",
     "output_type": "stream",
     "text": [
      "Operation completed! --> assignment2_full.py cleaned to >> assign2_clean.py\n"
     ]
    }
   ],
   "source": [
    "def clean_notebook(f_in, f_out):\n",
    "    \"\"\"We can read each line in the file, check if the line is a markdown one\n",
    "    and write to the output file the ones that aren't.\n",
    "    \"\"\"\n",
    "    with open (f_in, \"r\") as f1, open(f_out, \"w\") as f2:\n",
    "        fullfile = f1.readlines() # ver el file por lineas\n",
    "        for lines in fullfile:\n",
    "            if lines.startswith(\"#\"):\n",
    "                pass\n",
    "            else:\n",
    "                f2.write(lines)\n",
    "                    \n",
    "        return print(f\"Operation completed! --> {f_in} cleaned to >> {f_out}\") \n",
    "\n",
    "\n",
    "# To get the .py document, this one has to be exported as a python file\n",
    "f_in  = \"assignment2_full.py\"\n",
    "f_out = \"assign2_clean.py\"\n",
    "\n",
    "clean_notebook(f_in, f_out)"
   ]
  },
  {
   "cell_type": "markdown",
   "metadata": {},
   "source": [
    "### Question 4.\n",
    "\n",
    "After checking the output file, we realize that we also want to remove all the lines that do not correspond to the functions we have defined.\n",
    "\n",
    "Write a better version of `clean_notebook` that removes them and leaves only the functions we have defined."
   ]
  },
  {
   "cell_type": "code",
   "execution_count": 3,
   "metadata": {},
   "outputs": [],
   "source": [
    "def clean_notebook2(f_in, f_out):\n",
    "    \"\"\"Starting with the previous code, decide what other lines you\n",
    "    have to remove and just write out the ones to keep.\n",
    "    \"\"\"\n",
    "    with open(f_in, 'r') as f1, open(f_out, 'w') as f2:\n",
    "        for line in f1:\n",
    "            if line.startswith(\"def\"):\n",
    "                f2.write(f\"\\n\\n{line}\")\n",
    "            elif line.startswith(\"import\"):\n",
    "                f2.write(line)\n",
    "            elif line.startswith(\"  \"): # quedarnos las que empiezan con def o tabulador\n",
    "                f2.write(line)\n",
    "\n",
    "f_in  = \"assign2_clean.py\"\n",
    "f_out = \"assign2_best.py\"\n",
    "\n",
    "clean_notebook2(f_in, f_out)"
   ]
  }
 ],
 "metadata": {
  "kernelspec": {
   "display_name": "Python 3",
   "language": "python",
   "name": "python3"
  },
  "language_info": {
   "codemirror_mode": {
    "name": "ipython",
    "version": 3
   },
   "file_extension": ".py",
   "mimetype": "text/x-python",
   "name": "python",
   "nbconvert_exporter": "python",
   "pygments_lexer": "ipython3",
   "version": "3.10.12"
  }
 },
 "nbformat": 4,
 "nbformat_minor": 4
}
