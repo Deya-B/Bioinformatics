{
 "cells": [
  {
   "cell_type": "markdown",
   "metadata": {
    "id": "nxipPZYCtCNj"
   },
   "source": [
    "# REQUESTS-0 - Exercises\n",
    "\n",
    "**Request library notebook**"
   ]
  },
  {
   "cell_type": "markdown",
   "metadata": {
    "id": "_fT21T7n6jEh"
   },
   "source": [
    "Notebook with exercises for practicing the use of the requests library"
   ]
  },
  {
   "cell_type": "markdown",
   "metadata": {
    "id": "WeTVsElz-KMr"
   },
   "source": [
    "# 1. Start using 'requests' library"
   ]
  },
  {
   "cell_type": "markdown",
   "metadata": {
    "id": "dCSn1uqs8KbO"
   },
   "source": [
    "Start by choosing one of the following APIs\n",
    "\n",
    "**1. Chuck Norris API**\n",
    "This is a free JSON API for hand-curated Chuck Norris facts. It also has Slack and Facebook messenger integration! For example, you can retrieve a random chuck joke in JSON format —\n",
    "\n",
    "https://api.chucknorris.io/jokes/random\n",
    "\n",
    "**2. Numbers API**\n",
    "An API for interesting facts about numbers. It provides trivia, math, date, and year facts about numbers. For example, if I look for date facts on February 29th, I get the following result.\n",
    "\n",
    "http://numbersapi.com/#42\n",
    "\n",
    "**3. Bored API**\n",
    "This is something you could add to your personal website, for instance. The Bored API ensures that a user is never bored. When requested, it responds with a random activity for the user to do. You can even customize the type and the number of participants!\n",
    "\n",
    "https://www.boredapi.com/\n",
    "\n",
    "**4. Agify API**\n",
    "How do you tell the age of someone from their name? Well, here is a fun little API that you can use. Agify is used for predicting the age of a person given their name. It is free to use for up to 1000 requests/day. You can try out the following in your browser —\n",
    "\n",
    "https://api.agify.io?name=michael\n",
    "\n",
    "Write a small script to use them!\n",
    "\n",
    "\n",
    "\n"
   ]
  },
  {
   "cell_type": "markdown",
   "metadata": {
    "id": "Dk7oPwwn-HKB"
   },
   "source": []
  },
  {
   "cell_type": "markdown",
   "metadata": {
    "id": "-SxzLQBO7j9S"
   },
   "source": [
    "# 2. Basic library usage"
   ]
  },
  {
   "cell_type": "markdown",
   "metadata": {
    "id": "nYtHd6s-ttph"
   },
   "source": [
    "1. Modify the following program to get the ‘id’ parameter from the user and show the result."
   ]
  },
  {
   "cell_type": "code",
   "execution_count": 15,
   "metadata": {
    "colab": {
     "base_uri": "https://localhost:8080/"
    },
    "executionInfo": {
     "elapsed": 13331,
     "status": "ok",
     "timestamp": 1729188196630,
     "user": {
      "displayName": "Deyanira Borroto",
      "userId": "00701246249365741400"
     },
     "user_tz": -120
    },
    "id": "drpVD36ItGtI",
    "outputId": "07faf8d1-9740-4077-b453-2679d5a6c61a"
   },
   "outputs": [
    {
     "name": "stdout",
     "output_type": "stream",
     "text": [
      "ID   J00231; SV 1; linear; mRNA; STD; HUM; 1089 BP.\n",
      "XX\n",
      "AC   J00231;\n",
      "XX\n",
      "DT   13-JUN-1985 (Rel. 06, Created)\n",
      "DT   17-APR-2005 (Rel. 83, Last updated, Version 9)\n",
      "XX\n",
      "DE   Human Ig gamma3 heavy chain disease OMM protein mRNA.\n",
      "XX\n",
      "KW   C-region; gamma heavy chain disease protein;\n",
      "KW   gamma3 heavy chain disease protein; heavy chain disease; hinge exon;\n",
      "KW   immunoglobulin gamma-chain; immunoglobulin heavy chain;\n",
      "KW   secreted immunoglobulin; V-region.\n",
      "XX\n",
      "OS   Homo sapiens (human)\n",
      "OC   Eukaryota; Metazoa; Chordata; Craniata; Vertebrata; Euteleostomi; Mammalia;\n",
      "OC   Eutheria; Euarchontoglires; Primates; Haplorrhini; Catarrhini; Hominidae;\n",
      "OC   Homo.\n",
      "XX\n",
      "RN   [1]\n",
      "RP   1-1089\n",
      "RX   DOI; 10.1073/pnas.79.10.3260.\n",
      "RX   PUBMED; 6808505.\n",
      "RA   Alexander A., Steinmetz M., Barritault D., Frangione B., Franklin E.C.,\n",
      "RA   Hood L., Buxbaum J.N.;\n",
      "RT   \"gamma Heavy chain disease in man: cDNA sequence supports partial gene\n",
      "RT   deletion model\";\n",
      "RL   Proc. Natl. Acad. Sci. U.S.A. 79(10):3260-3264(1982).\n",
      "XX\n",
      "DR   MD5; dbfb2a63ffcc88671722e91e641adcaa.\n",
      "DR   CABRI; LMBP 2079.\n",
      "DR   CABRI; LMBP 2146.\n",
      "DR   CABRI; LMBP 2147.\n",
      "DR   CABRI; LMBP 2151.\n",
      "DR   CABRI; LMBP 2192.\n",
      "DR   CABRI; LMBP 2193.\n",
      "DR   CABRI; LMBP 2194.\n",
      "DR   CABRI; LMBP 2211.\n",
      "DR   CABRI; LMBP 2316.\n",
      "DR   CABRI; LMBP 2586.\n",
      "DR   CABRI; LMBP 2587.\n",
      "DR   CABRI; LMBP 2589.\n",
      "DR   CABRI; LMBP 2590.\n",
      "DR   CABRI; LMBP 3306.\n",
      "DR   EuropePMC; PMC2739203; 19682364.\n",
      "DR   IMGT/LIGM; J00231.\n",
      "XX\n",
      "CC   The protein isolated from patient OMM is a gamma heavy chain\n",
      "CC   disease (HCD) protein. It has a large 5' internal deletion\n",
      "CC   consisting of most of the variable region and the entire ch1\n",
      "CC   domain. [1] suggests that the protein abnormality is from a partial\n",
      "CC   gene deletion rather than from defective splicing.\n",
      "XX\n",
      "FH   Key             Location/Qualifiers\n",
      "FH\n",
      "FT   source          1..1089\n",
      "FT                   /organism=\"Homo sapiens\"\n",
      "FT                   /map=\"14q32.33\"\n",
      "FT                   /mol_type=\"mRNA\"\n",
      "FT                   /db_xref=\"taxon:9606\"\n",
      "FT   mRNA            <1..1089\n",
      "FT                   /note=\"gamma3 mRNA\"\n",
      "FT   CDS             23..964\n",
      "FT                   /codon_start=1\n",
      "FT                   /gene=\"IGHG3\"\n",
      "FT                   /note=\"OMM protein (Ig gamma3) heavy chain\"\n",
      "FT                   /db_xref=\"GOA:P01860\"\n",
      "FT                   /db_xref=\"HGNC:HGNC:5527\"\n",
      "FT                   /db_xref=\"InterPro:IPR003006\"\n",
      "FT                   /db_xref=\"InterPro:IPR003597\"\n",
      "FT                   /db_xref=\"InterPro:IPR007110\"\n",
      "FT                   /db_xref=\"InterPro:IPR013783\"\n",
      "FT                   /db_xref=\"InterPro:IPR036179\"\n",
      "FT                   /db_xref=\"PDB:4WWI\"\n",
      "FT                   /db_xref=\"PDB:4ZNC\"\n",
      "FT                   /db_xref=\"PDB:5M3V\"\n",
      "FT                   /db_xref=\"PDB:5W38\"\n",
      "FT                   /db_xref=\"PDB:6D58\"\n",
      "FT                   /db_xref=\"PDB:6G1E\"\n",
      "FT                   /db_xref=\"UniProtKB/Swiss-Prot:P01860\"\n",
      "FT                   /protein_id=\"AAA52805.1\"\n",
      "FT                   /translation=\"MKXLWFFLLLVAAPRWVLSQVHLQESGPGLGKPPELKTPLGDTTH\n",
      "FT                   TCPRCPEPKSCDTPPPCPRCPEPKSCDTPPPCPRCPEPKSCDTPPPCPXCPAPELLGGP\n",
      "FT                   SVFLFPPKPKDTLMISRTPEVTCVVVDVSHEDPXVQFKWYVDGVEVHNAKTKLREEQYN\n",
      "FT                   STFRVVSVLTVLHQDWLNGKEYKCKVSNKALPAPIEKTISKAKGQPXXXXXXXXXXXXE\n",
      "FT                   EMTKNQVSLTCLVKGFYPSDIAVEWESNGQPENNYNTTPPMLDSDGSFFLYSKLTVDKS\n",
      "FT                   RWQQGNIFSCSVMHEALHNRYTQKSLSLSPGK\"\n",
      "FT   sig_peptide     26..79\n",
      "FT                   /gene=\"IGHG3\"\n",
      "FT                   /note=\"OMM protein signal peptide\"\n",
      "FT   mat_peptide     80..961\n",
      "FT                   /gene=\"IGHG3\"\n",
      "FT                   /note=\"OMM protein mature peptide\"\n",
      "XX\n",
      "SQ   Sequence 1089 BP; 240 A; 358 C; 271 G; 176 T; 44 other;\n",
      "     cctggacctc ctgtgcaaga acatgaaaca nctgtggttc ttccttctcc tggtggcagc        60\n",
      "     tcccagatgg gtcctgtccc aggtgcacct gcaggagtcg ggcccaggac tggggaagcc       120\n",
      "     tccagagctc aaaaccccac ttggtgacac aactcacaca tgcccacggt gcccagagcc       180\n",
      "     caaatcttgt gacacacctc ccccgtgccc acggtgccca gagcccaaat cttgtgacac       240\n",
      "     acctccccca tgcccacggt gcccagagcc caaatcttgt gacacacctc ccccgtgccc       300\n",
      "     nnngtgccca gcacctgaac tcttgggagg accgtcagtc ttcctcttcc ccccaaaacc       360\n",
      "     caaggatacc cttatgattt cccggacccc tgaggtcacg tgcgtggtgg tggacgtgag       420\n",
      "     ccacgaagac ccnnnngtcc agttcaagtg gtacgtggac ggcgtggagg tgcataatgc       480\n",
      "     caagacaaag ctgcgggagg agcagtacaa cagcacgttc cgtgtggtca gcgtcctcac       540\n",
      "     cgtcctgcac caggactggc tgaacggcaa ggagtacaag tgcaaggtct ccaacaaagc       600\n",
      "     cctcccagcc cccatcgaga aaaccatctc caaagccaaa ggacagcccn nnnnnnnnnn       660\n",
      "     nnnnnnnnnn nnnnnnnnnn nnnnngagga gatgaccaag aaccaagtca gcctgacctg       720\n",
      "     cctggtcaaa ggcttctacc ccagcgacat cgccgtggag tgggagagca atgggcagcc       780\n",
      "     ggagaacaac tacaacacca cgcctcccat gctggactcc gacggctcct tcttcctcta       840\n",
      "     cagcaagctc accgtggaca agagcaggtg gcagcagggg aacatcttct catgctccgt       900\n",
      "     gatgcatgag gctctgcaca accgctacac gcagaagagc ctctccctgt ctccgggtaa       960\n",
      "     atgagtgcca tggccggcaa gcccccgctc cccgggctct cggggtcgcg cgaggatgct      1020\n",
      "     tggcacgtac cccgtgtaca tacttcccag gcacccagca tggaaataaa gcacccagcg      1080\n",
      "     ctgccctgg                                                              1089\n",
      "//\n",
      "\n"
     ]
    }
   ],
   "source": [
    "import requests\n",
    "\n",
    "# J00231\n",
    "dna_id = input(\"Introduce el identificador J00: \")\n",
    "tipo = \"ena_sequence\"\n",
    "\n",
    "ebi_url = f'https://www.ebi.ac.uk/Tools/dbfetch/dbfetch?db={tipo}&id=J00{dna_id}&style=raw'\n",
    "\n",
    "response = requests.get(ebi_url) # el metodo get de requests trae el contenido del fichero\n",
    "\n",
    "# Inspect some attributes of the `requests` repository\n",
    "print(response.text)\n"
   ]
  },
  {
   "cell_type": "markdown",
   "metadata": {
    "id": "Mlof15Sn20CN"
   },
   "source": [
    "2. Modify the following program to show only the lines containing the organism and the molecule type for the sequence.\n"
   ]
  },
  {
   "cell_type": "code",
   "execution_count": 24,
   "metadata": {
    "colab": {
     "base_uri": "https://localhost:8080/"
    },
    "executionInfo": {
     "elapsed": 1787,
     "status": "ok",
     "timestamp": 1729189771397,
     "user": {
      "displayName": "Deyanira Borroto",
      "userId": "00701246249365741400"
     },
     "user_tz": -120
    },
    "id": "4QNomC5w24yx",
    "outputId": "2e358386-3bba-4eef-dbbd-351829b82122"
   },
   "outputs": [
    {
     "name": "stdout",
     "output_type": "stream",
     "text": [
      "KW   C-region; gamma heavy chain disease protein;\n",
      "KW   gamma3 heavy chain disease protein; heavy chain disease; hinge exon;\n",
      "KW   immunoglobulin gamma-chain; immunoglobulin heavy chain;\n",
      "KW   secreted immunoglobulin; V-region.\n",
      "OS   Homo sapiens (human)\n"
     ]
    }
   ],
   "source": [
    "import requests\n",
    "\n",
    "# Define the URL\n",
    "ebi_url = 'https://www.ebi.ac.uk/Tools/dbfetch/dbfetch?db=ena_sequence&id=J00231&style=raw'\n",
    "\n",
    "# Search Dbfetch tool\n",
    "response = requests.get(ebi_url)\n",
    "\n",
    "# Inspect some attributes of the `requests` repository\n",
    "salida = response.text.splitlines() #Split a string into a list where each line is a list item\n",
    "                            #  needed to create a list in order to iterate with it in the loop\n",
    "\n",
    "for line in salida:\n",
    "    if line.startswith(\"OS\"):  # orgaminsm\n",
    "        print(line)\n",
    "    if line.startswith(\"KW\"):  # tipo de molecula\n",
    "        print(line)"
   ]
  },
  {
   "cell_type": "markdown",
   "metadata": {
    "id": "h58lRMNV-WDy"
   },
   "source": [
    "#3. Passing parameters\n",
    "----"
   ]
  },
  {
   "cell_type": "markdown",
   "metadata": {
    "id": "OuX2yvp07_n0"
   },
   "source": [
    "3. One common way to customize a GET request is to pass values through query string parameters in the URL. To do this using *get()*, you pass data to params as a dictionary.\n",
    "\n",
    "The purpose of the params dictionary in the requests.get() function is to pass query parameters to the API. These parameters allow you to customize or filter the request to the API and determine what type of data is returned."
   ]
  },
  {
   "cell_type": "code",
   "execution_count": null,
   "metadata": {
    "colab": {
     "base_uri": "https://localhost:8080/"
    },
    "collapsed": true,
    "executionInfo": {
     "elapsed": 3299,
     "status": "ok",
     "timestamp": 1729189847450,
     "user": {
      "displayName": "Deyanira Borroto",
      "userId": "00701246249365741400"
     },
     "user_tz": -120
    },
    "id": "y-m4rrJ08GBQ",
    "outputId": "041751b7-4cf1-4758-8e44-740d6fdcbf43"
   },
   "outputs": [
    {
     "name": "stdout",
     "output_type": "stream",
     "text": [
      "ID   J00231; SV 1; linear; mRNA; STD; HUM; 1089 BP.\n",
      "XX\n",
      "AC   J00231;\n",
      "XX\n",
      "DT   13-JUN-1985 (Rel. 06, Created)\n",
      "DT   17-APR-2005 (Rel. 83, Last updated, Version 9)\n",
      "XX\n",
      "DE   Human Ig gamma3 heavy chain disease OMM protein mRNA.\n",
      "XX\n",
      "KW   C-region; gamma heavy chain disease protein;\n",
      "KW   gamma3 heavy chain disease protein; heavy chain disease; hinge exon;\n",
      "KW   immunoglobulin gamma-chain; immunoglobulin heavy chain;\n",
      "KW   secreted immunoglobulin; V-region.\n",
      "XX\n",
      "OS   Homo sapiens (human)\n",
      "OC   Eukaryota; Metazoa; Chordata; Craniata; Vertebrata; Euteleostomi; Mammalia;\n",
      "OC   Eutheria; Euarchontoglires; Primates; Haplorrhini; Catarrhini; Hominidae;\n",
      "OC   Homo.\n",
      "XX\n",
      "RN   [1]\n",
      "RP   1-1089\n",
      "RX   DOI; 10.1073/pnas.79.10.3260.\n",
      "RX   PUBMED; 6808505.\n",
      "RA   Alexander A., Steinmetz M., Barritault D., Frangione B., Franklin E.C.,\n",
      "RA   Hood L., Buxbaum J.N.;\n",
      "RT   \"gamma Heavy chain disease in man: cDNA sequence supports partial gene\n",
      "RT   deletion model\";\n",
      "RL   Proc. Natl. Acad. Sci. U.S.A. 79(10):3260-3264(1982).\n",
      "XX\n",
      "DR   MD5; dbfb2a63ffcc88671722e91e641adcaa.\n",
      "DR   CABRI; LMBP 2079.\n",
      "DR   CABRI; LMBP 2146.\n",
      "DR   CABRI; LMBP 2147.\n",
      "DR   CABRI; LMBP 2151.\n",
      "DR   CABRI; LMBP 2192.\n",
      "DR   CABRI; LMBP 2193.\n",
      "DR   CABRI; LMBP 2194.\n",
      "DR   CABRI; LMBP 2211.\n",
      "DR   CABRI; LMBP 2316.\n",
      "DR   CABRI; LMBP 2586.\n",
      "DR   CABRI; LMBP 2587.\n",
      "DR   CABRI; LMBP 2589.\n",
      "DR   CABRI; LMBP 2590.\n",
      "DR   CABRI; LMBP 3306.\n",
      "DR   EuropePMC; PMC2739203; 19682364.\n",
      "DR   IMGT/LIGM; J00231.\n",
      "XX\n",
      "CC   The protein isolated from patient OMM is a gamma heavy chain\n",
      "CC   disease (HCD) protein. It has a large 5' internal deletion\n",
      "CC   consisting of most of the variable region and the entire ch1\n",
      "CC   domain. [1] suggests that the protein abnormality is from a partial\n",
      "CC   gene deletion rather than from defective splicing.\n",
      "XX\n",
      "FH   Key             Location/Qualifiers\n",
      "FH\n",
      "FT   source          1..1089\n",
      "FT                   /organism=\"Homo sapiens\"\n",
      "FT                   /map=\"14q32.33\"\n",
      "FT                   /mol_type=\"mRNA\"\n",
      "FT                   /db_xref=\"taxon:9606\"\n",
      "FT   mRNA            <1..1089\n",
      "FT                   /note=\"gamma3 mRNA\"\n",
      "FT   CDS             23..964\n",
      "FT                   /codon_start=1\n",
      "FT                   /gene=\"IGHG3\"\n",
      "FT                   /note=\"OMM protein (Ig gamma3) heavy chain\"\n",
      "FT                   /db_xref=\"GOA:P01860\"\n",
      "FT                   /db_xref=\"HGNC:HGNC:5527\"\n",
      "FT                   /db_xref=\"InterPro:IPR003006\"\n",
      "FT                   /db_xref=\"InterPro:IPR003597\"\n",
      "FT                   /db_xref=\"InterPro:IPR007110\"\n",
      "FT                   /db_xref=\"InterPro:IPR013783\"\n",
      "FT                   /db_xref=\"InterPro:IPR036179\"\n",
      "FT                   /db_xref=\"PDB:4WWI\"\n",
      "FT                   /db_xref=\"PDB:4ZNC\"\n",
      "FT                   /db_xref=\"PDB:5M3V\"\n",
      "FT                   /db_xref=\"PDB:5W38\"\n",
      "FT                   /db_xref=\"PDB:6D58\"\n",
      "FT                   /db_xref=\"PDB:6G1E\"\n",
      "FT                   /db_xref=\"UniProtKB/Swiss-Prot:P01860\"\n",
      "FT                   /protein_id=\"AAA52805.1\"\n",
      "FT                   /translation=\"MKXLWFFLLLVAAPRWVLSQVHLQESGPGLGKPPELKTPLGDTTH\n",
      "FT                   TCPRCPEPKSCDTPPPCPRCPEPKSCDTPPPCPRCPEPKSCDTPPPCPXCPAPELLGGP\n",
      "FT                   SVFLFPPKPKDTLMISRTPEVTCVVVDVSHEDPXVQFKWYVDGVEVHNAKTKLREEQYN\n",
      "FT                   STFRVVSVLTVLHQDWLNGKEYKCKVSNKALPAPIEKTISKAKGQPXXXXXXXXXXXXE\n",
      "FT                   EMTKNQVSLTCLVKGFYPSDIAVEWESNGQPENNYNTTPPMLDSDGSFFLYSKLTVDKS\n",
      "FT                   RWQQGNIFSCSVMHEALHNRYTQKSLSLSPGK\"\n",
      "FT   sig_peptide     26..79\n",
      "FT                   /gene=\"IGHG3\"\n",
      "FT                   /note=\"OMM protein signal peptide\"\n",
      "FT   mat_peptide     80..961\n",
      "FT                   /gene=\"IGHG3\"\n",
      "FT                   /note=\"OMM protein mature peptide\"\n",
      "XX\n",
      "SQ   Sequence 1089 BP; 240 A; 358 C; 271 G; 176 T; 44 other;\n",
      "     cctggacctc ctgtgcaaga acatgaaaca nctgtggttc ttccttctcc tggtggcagc        60\n",
      "     tcccagatgg gtcctgtccc aggtgcacct gcaggagtcg ggcccaggac tggggaagcc       120\n",
      "     tccagagctc aaaaccccac ttggtgacac aactcacaca tgcccacggt gcccagagcc       180\n",
      "     caaatcttgt gacacacctc ccccgtgccc acggtgccca gagcccaaat cttgtgacac       240\n",
      "     acctccccca tgcccacggt gcccagagcc caaatcttgt gacacacctc ccccgtgccc       300\n",
      "     nnngtgccca gcacctgaac tcttgggagg accgtcagtc ttcctcttcc ccccaaaacc       360\n",
      "     caaggatacc cttatgattt cccggacccc tgaggtcacg tgcgtggtgg tggacgtgag       420\n",
      "     ccacgaagac ccnnnngtcc agttcaagtg gtacgtggac ggcgtggagg tgcataatgc       480\n",
      "     caagacaaag ctgcgggagg agcagtacaa cagcacgttc cgtgtggtca gcgtcctcac       540\n",
      "     cgtcctgcac caggactggc tgaacggcaa ggagtacaag tgcaaggtct ccaacaaagc       600\n",
      "     cctcccagcc cccatcgaga aaaccatctc caaagccaaa ggacagcccn nnnnnnnnnn       660\n",
      "     nnnnnnnnnn nnnnnnnnnn nnnnngagga gatgaccaag aaccaagtca gcctgacctg       720\n",
      "     cctggtcaaa ggcttctacc ccagcgacat cgccgtggag tgggagagca atgggcagcc       780\n",
      "     ggagaacaac tacaacacca cgcctcccat gctggactcc gacggctcct tcttcctcta       840\n",
      "     cagcaagctc accgtggaca agagcaggtg gcagcagggg aacatcttct catgctccgt       900\n",
      "     gatgcatgag gctctgcaca accgctacac gcagaagagc ctctccctgt ctccgggtaa       960\n",
      "     atgagtgcca tggccggcaa gcccccgctc cccgggctct cggggtcgcg cgaggatgct      1020\n",
      "     tggcacgtac cccgtgtaca tacttcccag gcacccagca tggaaataaa gcacccagcg      1080\n",
      "     ctgccctgg                                                              1089\n",
      "//\n",
      "\n"
     ]
    }
   ],
   "source": [
    "import requests\n",
    "\n",
    "# Define the URL\n",
    "ebi_url = 'https://www.ebi.ac.uk/Tools/dbfetch/dbfetch'\n",
    "\n",
    "# Search Dbfetch tool\n",
    "response = requests.get(ebi_url,    # Esta libreria admite un diccionario llamado\n",
    "                                        # params en el que le pasamos los arguments\n",
    "    params = {'db': 'ena_sequence', 'id':'J00231' , 'style':'raw'}\n",
    ")\n",
    "\n",
    "# Inspect some attributes of the `requests` repository\n",
    "print(response.text)"
   ]
  },
  {
   "cell_type": "markdown",
   "metadata": {
    "id": "wwy8REjPxl8b"
   },
   "source": [
    "The dictionary params={'db': 'ena_sequence', 'id': 'J00231', 'style': 'raw'} breaks down as follows:\n",
    "\n",
    "**db**: Specifies the database you're querying. In this case, ena_sequence indicates you're querying the ENA (European Nucleotide Archive) sequence database.\n",
    "\n",
    "**id**: Specifies the unique identifier of the sequence you want. In this case, 'J00231' is the ID of the sequence you're requesting.\n",
    "\n",
    "**style**: Specifies the format in which you want the data. The raw style means that you want the raw sequence data, without additional formatting."
   ]
  },
  {
   "cell_type": "markdown",
   "metadata": {
    "id": "EOGJHyzn8mm2"
   },
   "source": [
    "4. Rewrite both programs 1. and 2. to use the params parameter in *get()* function. First, copy the resulting code 1 and 2 in the following cells (don't modify the originals)"
   ]
  },
  {
   "cell_type": "markdown",
   "metadata": {
    "id": "yzJ2hwZvzx9s"
   },
   "source": [
    "PROGRAMA 1 con *.get(url, params=...)*"
   ]
  },
  {
   "cell_type": "code",
   "execution_count": 33,
   "metadata": {
    "colab": {
     "base_uri": "https://localhost:8080/"
    },
    "collapsed": true,
    "executionInfo": {
     "elapsed": 54754,
     "status": "ok",
     "timestamp": 1729190699230,
     "user": {
      "displayName": "Deyanira Borroto",
      "userId": "00701246249365741400"
     },
     "user_tz": -120
    },
    "id": "3prArnA9x4MV",
    "outputId": "34f96915-5c36-45dc-9af4-85a2338d632a"
   },
   "outputs": [
    {
     "name": "stdout",
     "output_type": "stream",
     "text": [
      "ID   J00233; SV 1; linear; genomic DNA; STD; HUM; 88 BP.\n",
      "XX\n",
      "AC   J00233;\n",
      "XX\n",
      "DT   13-JUN-1985 (Rel. 06, Created)\n",
      "DT   30-JUN-2006 (Rel. 88, Last updated, Version 10)\n",
      "XX\n",
      "DE   Human Ig germline heavy chain D-region gene, D1.\n",
      "XX\n",
      "KW   C-region; D-region; germline; immunoglobulin heavy chain; V-region.\n",
      "XX\n",
      "OS   Homo sapiens (human)\n",
      "OC   Eukaryota; Metazoa; Chordata; Craniata; Vertebrata; Euteleostomi; Mammalia;\n",
      "OC   Eutheria; Euarchontoglires; Primates; Haplorrhini; Catarrhini; Hominidae;\n",
      "OC   Homo.\n",
      "XX\n",
      "RN   [1]\n",
      "RP   1-88\n",
      "RX   DOI; 10.1038/294631a0.\n",
      "RX   PUBMED; 7312051.\n",
      "RA   Siebenlist U., Ravetch J.V., Korsmeyer S., Waldmann T., Leder P.;\n",
      "RT   \"Human immunoglobulin D segments encoded in tandem multigenic families\";\n",
      "RL   Nature 294(5842):631-635(1981).\n",
      "XX\n",
      "DR   MD5; 657ef847df864d12769b7f5bc44436a1.\n",
      "DR   IMGT/LIGM; J00233.\n",
      "XX\n",
      "CC   Members of the D-region family are embedded in a 9 kb repeat unit.\n",
      "CC   The probe used to isolate the four D-region genes was an aberrant\n",
      "CC   D-J recombinant.\n",
      "XX\n",
      "FH   Key             Location/Qualifiers\n",
      "FH\n",
      "FT   source          1..88\n",
      "FT                   /organism=\"Homo sapiens\"\n",
      "FT                   /map=\"14q32.33\"\n",
      "FT                   /mol_type=\"genomic DNA\"\n",
      "FT                   /tissue_type=\"placenta\"\n",
      "FT                   /germline\n",
      "FT                   /db_xref=\"taxon:9606\"\n",
      "FT   regulatory      1..9\n",
      "FT                   /gene=\"IGH@\"\n",
      "FT                   /note=\"nonamer recombination signal; G00-118-731; putative\"\n",
      "FT                   /regulatory_class=\"other\"\n",
      "FT   iDNA            <1..>27\n",
      "FT                   /gene=\"IGH@\"\n",
      "FT                   /note=\"V-D intervening DNA; G00-118-731\"\n",
      "FT                   /note=\"Location changed from '<1..(27.29)' to '<1..>27'\"\n",
      "FT   regulatory      22..28\n",
      "FT                   /gene=\"IGH@\"\n",
      "FT                   /note=\"heptamer recombination signal; G00-118-731\"\n",
      "FT                   /regulatory_class=\"other\"\n",
      "FT   CDS             <29..>59\n",
      "FT                   /codon_start=1\n",
      "FT                   /gene=\"IGH@\"\n",
      "FT                   /product=\"immunoglobulin heavy chain\"\n",
      "FT                   /note=\"D region\"\n",
      "FT                   /protein_id=\"AAA52742.1\"\n",
      "FT                   /translation=\"RILYWWCMLY\"\n",
      "FT   regulatory      60..66\n",
      "FT                   /gene=\"IGH@\"\n",
      "FT                   /note=\"heptamer recombination signal; G00-118-731;\n",
      "FT                   putative\"\n",
      "FT                   /regulatory_class=\"other\"\n",
      "FT   iDNA            <61..>88\n",
      "FT                   /gene=\"IGH@\"\n",
      "FT                   /note=\"D-J intervening DNA; G00-118-731\"\n",
      "FT                   /note=\"Location changed from '(59.61)..>88' to '<61..>88'\"\n",
      "FT   regulatory      80..88\n",
      "FT                   /gene=\"IGH@\"\n",
      "FT                   /note=\"nonamer recombination signal; G00-118-731; putative\"\n",
      "FT                   /regulatory_class=\"other\"\n",
      "XX\n",
      "SQ   Sequence 88 BP; 18 A; 21 C; 25 G; 24 T; 0 other;\n",
      "     ggattttgtg ggggctcgtg tcactgtgag gatattgtac tggtggtgta tgctataccc        60\n",
      "     acagtgacac agccccattc ccaaagcc                                           88\n",
      "//\n",
      "\n"
     ]
    }
   ],
   "source": [
    "# NEW Excercise 1\n",
    "import requests\n",
    "\n",
    "dna_id = input(\"Introduce el identificador: \") # J00231\n",
    "tipo = \"ena_sequence\"\n",
    "\n",
    "ebi_url = f\"https://www.ebi.ac.uk/Tools/dbfetch/dbfetch?db={tipo}&id=id={dna_id}&style=raw\"\n",
    "\n",
    "retrieve = requests.get(ebi_url, \n",
    "    params = {\"db\": tipo, \"id\": dna_id, \"style\":\"raw\"})\n",
    "\n",
    "print(retrieve.text)"
   ]
  },
  {
   "cell_type": "markdown",
   "metadata": {
    "id": "5v3UiAVrz3Te"
   },
   "source": [
    "PROGRAMA 2 con *.get(url, **params**=...)*"
   ]
  },
  {
   "cell_type": "code",
   "execution_count": 34,
   "metadata": {
    "colab": {
     "base_uri": "https://localhost:8080/"
    },
    "executionInfo": {
     "elapsed": 1978,
     "status": "ok",
     "timestamp": 1729191043794,
     "user": {
      "displayName": "Deyanira Borroto",
      "userId": "00701246249365741400"
     },
     "user_tz": -120
    },
    "id": "KhqG-0ZYzOga",
    "outputId": "e359791a-2c9c-43df-d78e-0f0a866c9d99"
   },
   "outputs": [
    {
     "name": "stdout",
     "output_type": "stream",
     "text": [
      "KW   C-region; D-region; germline; immunoglobulin heavy chain; V-region.\n",
      "OS   Homo sapiens (human)\n"
     ]
    }
   ],
   "source": [
    "# 2ndNEW Exercise 1\n",
    "import requests\n",
    "\n",
    "# Define the URL\n",
    "ebi_url = 'https://www.ebi.ac.uk/Tools/dbfetch/dbfetch?db=ena_sequence&id=J00231&style=raw'\n",
    "tipo = \"ena_sequence\"\n",
    "dna_id = input(\"Introduce el identificador: \") # J00231\n",
    "\n",
    "# Search Dbfetch tool\n",
    "response = requests.get(ebi_url, \n",
    "    params = {\"db\": tipo, \"id\": dna_id, \"style\":\"raw\"})\n",
    "\n",
    "# Inspect some attributes of the `requests` repository\n",
    "salida = response.text.splitlines() \n",
    "                    # Split a string into a list where each line is a list item\n",
    "                    # needed to create a list in order to iterate with it in the loop\n",
    "\n",
    "for line in salida:\n",
    "    if line.startswith(\"OS\"):   # organism\n",
    "        print(line)\n",
    "    if line.startswith(\"KW\"):   # Molecule type line\n",
    "        print(line)\n"
   ]
  },
  {
   "cell_type": "markdown",
   "metadata": {
    "id": "BrJyJ8GtAR0Q"
   },
   "source": [
    "5. Complete the following program to retrieve different sequences. Read each ID from 'prot_codes.txt' (one per line)."
   ]
  },
  {
   "cell_type": "code",
   "execution_count": 35,
   "metadata": {
    "colab": {
     "base_uri": "https://localhost:8080/"
    },
    "executionInfo": {
     "elapsed": 1550,
     "status": "ok",
     "timestamp": 1729191178858,
     "user": {
      "displayName": "Deyanira Borroto",
      "userId": "00701246249365741400"
     },
     "user_tz": -120
    },
    "id": "HLxyN3InAT1m",
    "outputId": "805c6039-54cc-41f4-9991-f734e72970e1"
   },
   "outputs": [
    {
     "name": "stdout",
     "output_type": "stream",
     "text": [
      ">tr|S4TR86|S4TR86_9HEMI Cytochrome c oxidase subunit 1 (Fragment) OS=Graptocleptes sp. 00004431 OX=1276425 GN=COI PE=3 SV=1\n",
      "LGTPGTFIGNDQIYNVFVTAHAFIMIFFMVMPIMIGGFGNWLVPLMIGAPDMAFPRMNNM\n",
      "SFWLLPPSLTLLLISSIAEGGAGTGWTVYPPLSSNIAHSGAAVDLAIFSLHLAGVSSILG\n",
      "AVNFISTIINMRPXGMSPERIPMFVWSVGITALLLLLSLPVLAGAITMLLTDRNFNTSFF\n",
      "DPSGGGDPILYQHLFWFFGHPEVXILILPGFGLISHIIAMETGK\n",
      "\n"
     ]
    }
   ],
   "source": [
    "import requests\n",
    "\n",
    "# Define the URL\n",
    "urlbase = \"https://www.ebi.ac.uk/Tools/dbfetch/dbfetch\"\n",
    "\n",
    "# Set parameters\n",
    "parameters = {'db':'uniprotkb','id':'S4TR86','format':'fasta','style':'raw'}\n",
    "\n",
    "# Make the request!\n",
    "print(requests.get(urlbase, params=parameters).text)"
   ]
  },
  {
   "cell_type": "code",
   "execution_count": 43,
   "metadata": {
    "colab": {
     "base_uri": "https://localhost:8080/"
    },
    "executionInfo": {
     "elapsed": 1868,
     "status": "ok",
     "timestamp": 1729225675512,
     "user": {
      "displayName": "Deyanira Borroto",
      "userId": "00701246249365741400"
     },
     "user_tz": -120
    },
    "id": "6qhy6FEl4a5R",
    "outputId": "3130990f-ef09-41e5-a560-7ffa805b4c5c"
   },
   "outputs": [
    {
     "name": "stdout",
     "output_type": "stream",
     "text": [
      ">UNIPROT:1433X_MAIZE P29306 14-3-3-like protein (Fragment)\n",
      "ILNSPDRACNLAKQAFDEAISELDSLGEESYKDSTLIMQLLXDNLTLWTSDTNEDGGDEI\n",
      "K\n",
      "\n",
      ">tr|S4TR86|S4TR86_9HEMI Cytochrome c oxidase subunit 1 (Fragment) OS=Graptocleptes sp. 00004431 OX=1276425 GN=COI PE=3 SV=1\n",
      "LGTPGTFIGNDQIYNVFVTAHAFIMIFFMVMPIMIGGFGNWLVPLMIGAPDMAFPRMNNM\n",
      "SFWLLPPSLTLLLISSIAEGGAGTGWTVYPPLSSNIAHSGAAVDLAIFSLHLAGVSSILG\n",
      "AVNFISTIINMRPXGMSPERIPMFVWSVGITALLLLLSLPVLAGAITMLLTDRNFNTSFF\n",
      "DPSGGGDPILYQHLFWFFGHPEVXILILPGFGLISHIIAMETGK\n",
      "\n",
      ">tr|S4TR87|S4TR87_9CAUD dUTP diphosphatase OS=Salmonella phage FSL SP-058 OX=1173761 GN=SP058_00140 PE=3 SV=1\n",
      "MQVKLRVLPFNNPNMSVPARATEGSAGVDLRANTSEPFELKPGETKLIETGLAIHLDDVH\n",
      "VAAMILPRSGLGHKHGVVLGNLTGLIDSDYQGELMVSLWNRSTEPFTVNPGDRIAQMVIV\n",
      "PVMQPEFVVVDSFESTERGAGGFNSTGVK\n",
      "\n",
      ">UNIPROT:1433T_RAT P68255 14-3-3 protein theta (14-3-3 protein tau)\n",
      "MEKTELIQKAKLAEQAERYDDMATCMKAVTEQGAELSNEERNLLSVAYKNVVGGRRSAWR\n",
      "VISSIEQKTDTSDKKLQLIKDYREKVESELRSICTTVLELLDKYLIANATNPESKVFYLK\n",
      "MKGDYFRYLAEVACGDDRKQTIENSQGAYQEAFDISKKEMQPTHPIRLGLALNFSVFYYE\n",
      "ILNNPELACTLAKTAFDEAIAELDTLNEDSYKDSTLIMQLLRDNLTLWTSDSAGEECDAA\n",
      "EGAEN\n",
      "\n"
     ]
    }
   ],
   "source": [
    "import requests\n",
    "\n",
    "# Define the URL\n",
    "urlbase = \"https://www.ebi.ac.uk/Tools/dbfetch/dbfetch\"\n",
    "params = {'db':'uniprotkb','id':'S4TR86','format':'fasta','style':'raw'}\n",
    "\n",
    "# Define the id extraction:\n",
    "#Read each ID from 'prot_codes.txt' (one per line)\n",
    "file = \"./prot_codes.txt\"\n",
    "\n",
    "with open(file) as f:\n",
    "    for line in f:  # each line is a dna id\n",
    "        params['id'] = line.strip()\n",
    "        print(requests.get(urlbase, params=params).text)\n",
    "\n",
    "# Make the request!"
   ]
  },
  {
   "cell_type": "markdown",
   "metadata": {
    "id": "OGfqGT5ZCEDf"
   },
   "source": [
    "# Solutions (do NOT open!. Yet)"
   ]
  },
  {
   "cell_type": "markdown",
   "metadata": {
    "id": "A04p-zmVBF9Z"
   },
   "source": [
    "**Exercise 1**. Get the ID from the user\n",
    "\n",
    "It can be done with f-strings (only for Python3), or old-school %-formatting. More info: https://realpython.com/python-f-strings/"
   ]
  },
  {
   "cell_type": "code",
   "execution_count": null,
   "metadata": {
    "id": "2YS6Z4Z-BIVb"
   },
   "outputs": [],
   "source": [
    "import requests\n",
    "\n",
    "# J00231\n",
    "id = input(\"Type the desired ID, please: \")\n",
    "\n",
    "# Define the URL\n",
    "# Only for Python 3\n",
    "ebi_url = f'https://www.ebi.ac.uk/Tools/dbfetch/dbfetch?db=ena_sequence&id={id}&style=raw'\n",
    "\n",
    "# Search Dbfetch tool\n",
    "response = requests.get(ebi_url)\n",
    "\n",
    "# Inspect some attributes of the `requests` repository\n",
    "print(response.text)"
   ]
  },
  {
   "cell_type": "markdown",
   "metadata": {
    "id": "0SB7swvaBtGE"
   },
   "source": [
    "**Exercise 2**. Filter output"
   ]
  },
  {
   "cell_type": "code",
   "execution_count": null,
   "metadata": {
    "id": "spqgjzQ_B0MA"
   },
   "outputs": [],
   "source": [
    "# 2. Modify the following program to show only the lines containing the organism and the molecule type for the sequence\n",
    "\n",
    "import requests\n",
    "\n",
    "# Define the URL\n",
    "ebi_url = 'https://www.ebi.ac.uk/Tools/dbfetch/dbfetch?db=ena_sequence&id=J00231&style=raw'\n",
    "\n",
    "# Search Dbfetch tool\n",
    "response = requests.get(ebi_url).text\n",
    "\n",
    "splited_response = response.split('\\n')\n",
    "\n",
    "# Method 1: line-by-line\n",
    "for line in splited_response:\n",
    "    if 'organism' in line or 'mol_type' in line:\n",
    "        print(line)\n",
    "\n",
    "# Method 2: list comprehension\n",
    "filtered_response = [ line for line in splited_response if ('organism' in line or 'mol_type' in line)]\n",
    "print(filtered_response)"
   ]
  },
  {
   "cell_type": "markdown",
   "metadata": {
    "id": "_gbMm9bBCOuV"
   },
   "source": [
    "**Exercise 5**. Making multiple requests"
   ]
  },
  {
   "cell_type": "code",
   "execution_count": 42,
   "metadata": {
    "colab": {
     "base_uri": "https://localhost:8080/",
     "height": 211
    },
    "executionInfo": {
     "elapsed": 248,
     "status": "error",
     "timestamp": 1729225109627,
     "user": {
      "displayName": "Deyanira Borroto",
      "userId": "00701246249365741400"
     },
     "user_tz": -120
    },
    "id": "bhhfEw8xAvSM",
    "outputId": "29b5ff3c-493f-407d-9274-eb2b5f572267"
   },
   "outputs": [
    {
     "name": "stdout",
     "output_type": "stream",
     "text": [
      ">UNIPROT:1433X_MAIZE P29306 14-3-3-like protein (Fragment)\n",
      "ILNSPDRACNLAKQAFDEAISELDSLGEESYKDSTLIMQLLXDNLTLWTSDTNEDGGDEI\n",
      "K\n",
      "\n",
      ">tr|S4TR86|S4TR86_9HEMI Cytochrome c oxidase subunit 1 (Fragment) OS=Graptocleptes sp. 00004431 OX=1276425 GN=COI PE=3 SV=1\n",
      "LGTPGTFIGNDQIYNVFVTAHAFIMIFFMVMPIMIGGFGNWLVPLMIGAPDMAFPRMNNM\n",
      "SFWLLPPSLTLLLISSIAEGGAGTGWTVYPPLSSNIAHSGAAVDLAIFSLHLAGVSSILG\n",
      "AVNFISTIINMRPXGMSPERIPMFVWSVGITALLLLLSLPVLAGAITMLLTDRNFNTSFF\n",
      "DPSGGGDPILYQHLFWFFGHPEVXILILPGFGLISHIIAMETGK\n",
      "\n",
      ">tr|S4TR87|S4TR87_9CAUD dUTP diphosphatase OS=Salmonella phage FSL SP-058 OX=1173761 GN=SP058_00140 PE=3 SV=1\n",
      "MQVKLRVLPFNNPNMSVPARATEGSAGVDLRANTSEPFELKPGETKLIETGLAIHLDDVH\n",
      "VAAMILPRSGLGHKHGVVLGNLTGLIDSDYQGELMVSLWNRSTEPFTVNPGDRIAQMVIV\n",
      "PVMQPEFVVVDSFESTERGAGGFNSTGVK\n",
      "\n",
      ">UNIPROT:1433T_RAT P68255 14-3-3 protein theta (14-3-3 protein tau)\n",
      "MEKTELIQKAKLAEQAERYDDMATCMKAVTEQGAELSNEERNLLSVAYKNVVGGRRSAWR\n",
      "VISSIEQKTDTSDKKLQLIKDYREKVESELRSICTTVLELLDKYLIANATNPESKVFYLK\n",
      "MKGDYFRYLAEVACGDDRKQTIENSQGAYQEAFDISKKEMQPTHPIRLGLALNFSVFYYE\n",
      "ILNNPELACTLAKTAFDEAIAELDTLNEDSYKDSTLIMQLLRDNLTLWTSDSAGEECDAA\n",
      "EGAEN\n",
      "\n"
     ]
    }
   ],
   "source": [
    "import requests\n",
    "\n",
    "params = {'db':'uniprotkb','id':'S4TR86','format':'fasta','style':'raw'}\n",
    "urlbase = \"https://www.ebi.ac.uk/Tools/dbfetch/dbfetch\"\n",
    "\n",
    "# Retrieve many\n",
    "with open('./prot_codes.txt') as f:\n",
    "    for line in f:\n",
    "        params['id'] = line.strip()\n",
    "        print(requests.get(urlbase,params=params).text)"
   ]
  }
 ],
 "metadata": {
  "colab": {
   "provenance": [
    {
     "file_id": "1WgzGylMbKR_fVTZ3EtWSkN1E8Pc59PAs",
     "timestamp": 1729225882778
    }
   ]
  },
  "kernelspec": {
   "display_name": "Python 3",
   "name": "python3"
  },
  "language_info": {
   "codemirror_mode": {
    "name": "ipython",
    "version": 3
   },
   "file_extension": ".py",
   "mimetype": "text/x-python",
   "name": "python",
   "nbconvert_exporter": "python",
   "pygments_lexer": "ipython3",
   "version": "3.13.0"
  }
 },
 "nbformat": 4,
 "nbformat_minor": 0
}
